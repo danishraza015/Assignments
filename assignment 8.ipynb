{
  "nbformat": 4,
  "nbformat_minor": 0,
  "metadata": {
    "colab": {
      "provenance": []
    },
    "kernelspec": {
      "name": "python3",
      "display_name": "Python 3"
    },
    "language_info": {
      "name": "python"
    }
  },
  "cells": [
    {
      "cell_type": "markdown",
      "source": [
        "Q1 Discuss the scenarios where multithreading is preferable to multiprocessing and scenarios where multiprocessing is a better choice."
      ],
      "metadata": {
        "id": "oZMyNUBoa99N"
      }
    },
    {
      "cell_type": "markdown",
      "source": [
        "Ans Choosing between multithreading and multiprocessing depends on the type of tasks you want to run and the resources they require. Each has its strengths, particularly for handling different types of workloads in Python or other programming environments. Here’s a breakdown of when each is preferable:\n",
        "\n",
        "When Multithreading is Preferable\n",
        "Multithreading is generally ideal for I/O-bound tasks, where the program spends more time waiting for input/output operations (like network requests, file operations, or database access) than performing CPU-intensive computations. Some scenarios where multithreading is a good choice include:\n",
        "\n",
        "I/O-Bound Operations:\n",
        "\n",
        "Network requests: Applications that make frequent network calls, like downloading files, web scraping, or handling API requests, benefit from multithreading because network latency is often the bottleneck.\n",
        "File I/O: If your program reads from or writes to files extensively (like log processing or data loading), multithreading allows other threads to proceed while one waits on disk I/O.\n",
        "Database Access: If the application spends time waiting for a database response, multithreading allows other operations to run concurrently.\n",
        "Low Resource Overhead:\n",
        "\n",
        "Multithreading has lower memory overhead compared to multiprocessing because threads within the same process share memory space, while each process has its own memory in multiprocessing. Therefore, if you need to manage many concurrent tasks that aren't computationally intensive, multithreading is often more efficient.\n",
        "Responsiveness in GUI Applications:\n",
        "\n",
        "In applications with a graphical user interface (GUI), multithreading can help maintain responsiveness. For instance, if one thread handles the UI while others perform background tasks, the application can remain interactive.\n",
        "Tasks Requiring Shared Memory:\n",
        "\n",
        "Because threads within the same process share memory space, sharing data between threads is straightforward, as opposed to separate processes, where data must be serialized and passed explicitly. Tasks that benefit from real-time, shared access to data structures can perform better in a multithreaded environment.\n",
        "When Multiprocessing is Preferable\n",
        "Multiprocessing is more suitable for CPU-bound tasks, where the program requires a lot of computation, and parallel execution across multiple cores can significantly reduce processing time. Scenarios where multiprocessing is preferable include:\n",
        "\n",
        "CPU-Bound Operations:\n",
        "\n",
        "Heavy Computation Tasks: Tasks that involve large amounts of calculations, such as image processing, machine learning model training, mathematical computations, or data analysis, benefit from multiprocessing because they can leverage multiple CPU cores effectively.\n",
        "Parallelizable Workloads: If a task can be divided into smaller, independent sub-tasks that can run in parallel without dependency, multiprocessing can improve performance by utilizing multiple cores.\n",
        "Tasks Needing Isolation:\n",
        "\n",
        "Some tasks require complete isolation to avoid interference or shared state, making multiprocessing a better choice. For instance, if you are performing memory-intensive operations that require each worker to have its own isolated memory space, multiprocessing avoids potential conflicts from shared memory usage.\n",
        "Bypassing the Global Interpreter Lock (GIL):\n",
        "\n",
        "In Python, the Global Interpreter Lock (GIL) prevents multiple native threads from executing Python bytecodes at once. As a result, multithreading is limited for CPU-bound tasks. Multiprocessing creates separate processes, each with its own interpreter and memory space, bypassing the GIL and enabling true parallelism on multiple cores.\n",
        "Fault Isolation:\n",
        "\n",
        "Because each process runs independently, errors in one process do not affect others. This isolation is valuable when stability is critical, such as in distributed or parallel systems where each worker needs to be isolated from the others.\n",
        "Summary\n",
        "Multithreading is best for I/O-bound tasks, lighter workloads, and scenarios requiring shared memory.\n",
        "Multiprocessing is best for CPU-bound tasks, tasks requiring isolation, and workloads that benefit from parallelism and can bypass the GIL.\n",
        "In practice, many applications use a hybrid approach, combining both, such as by using multithreading for I/O-bound tasks within a single process and multiprocessing for CPU-intensive tasks across cores."
      ],
      "metadata": {
        "id": "n6r6xl3XbE-S"
      }
    },
    {
      "cell_type": "markdown",
      "source": [
        "Q2 Describe what a process pool is and how it helps in managing multiple processes efficiently"
      ],
      "metadata": {
        "id": "AK0ntp47bgVL"
      }
    },
    {
      "cell_type": "markdown",
      "source": [
        "Ans A process pool is a programming construct used to manage a collection of worker processes that perform tasks concurrently. It is particularly useful for parallel processing, allowing multiple processes to handle different parts of a workload in an efficient, structured manner. Here’s a breakdown of how a process pool works and its benefits:\n",
        "\n",
        "What is a Process Pool?\n",
        "A process pool provides a way to manage multiple worker processes by pre-spawning them and reusing these processes to handle tasks from a queue. Rather than creating and destroying processes for every task, which is computationally expensive, a process pool keeps a set of processes ready to handle incoming tasks. This is particularly common in libraries like Python's multiprocessing.Pool or concurrent.futures.ProcessPoolExecutor.\n",
        "\n",
        "How Process Pools Work\n",
        "Initialization: A fixed number of worker processes are created at the start. This is the \"pool\" of processes, and the number of processes is typically based on the number of CPU cores.\n",
        "\n",
        "Task Assignment: When a task arrives, it is assigned to one of the idle processes in the pool. If all processes are busy, the task waits in a queue until a process becomes available.\n",
        "\n",
        "Execution: The assigned process executes the task independently and returns the result when it completes.\n",
        "\n",
        "Reusability: Once a task is completed, the process becomes idle again and is ready to take on a new task, avoiding the need for creating a new process.\n",
        "\n",
        "Benefits of Using a Process Pool\n",
        "Resource Efficiency: By reusing a set number of processes, the overhead of creating and destroying processes repeatedly is avoided, saving CPU and memory resources.\n",
        "\n",
        "Parallel Execution: Multiple processes run simultaneously, making full use of multi-core processors, which can significantly reduce the time taken to process a large number of tasks.\n",
        "\n",
        "Controlled Concurrency: The pool size can be adjusted, allowing control over the number of concurrent tasks and preventing issues like resource exhaustion due to excessive process creation.\n",
        "\n",
        "Simplified Management: The process pool handles the lifecycle of processes and the distribution of tasks, making code simpler and reducing the need for manual process management.\n",
        "\n",
        "Use Cases\n",
        "Process pools are widely used for:\n",
        "\n",
        "Data Processing: Processing large datasets where each process can handle a chunk of data.\n",
        "Web Scraping: Concurrently scraping multiple web pages.\n",
        "Simulation and Modeling: Running independent simulations or calculations in parallel.\n",
        "Example (Python)\n",
        "In Python, a process pool can be created using multiprocessing.Pool as follows:\n"
      ],
      "metadata": {
        "id": "TRWqwQOgbhzQ"
      }
    },
    {
      "cell_type": "code",
      "source": [
        "from multiprocessing import Pool\n",
        "\n",
        "def square(x):\n",
        "    return x * x\n",
        "\n",
        "# Create a pool of 4 worker processes\n",
        "with Pool(4) as p:\n",
        "    results = p.map(square, [1, 2, 3, 4, 5])\n",
        "\n",
        "print(results)  # Output: [1, 4, 9, 16, 25]\n"
      ],
      "metadata": {
        "colab": {
          "base_uri": "https://localhost:8080/"
        },
        "id": "10Iq4OfJbvgP",
        "outputId": "c28a8d5c-a201-4fde-83a3-ab0eedd487da"
      },
      "execution_count": 1,
      "outputs": [
        {
          "output_type": "stream",
          "name": "stdout",
          "text": [
            "[1, 4, 9, 16, 25]\n"
          ]
        }
      ]
    },
    {
      "cell_type": "markdown",
      "source": [
        "In this example, the map function distributes the tasks (squaring numbers) across the pool of 4 processes, resulting in parallel execution and efficient task management."
      ],
      "metadata": {
        "id": "xaOiuxZbb6ww"
      }
    },
    {
      "cell_type": "markdown",
      "source": [
        "Q3 Explain what multiprocessing is and why it is used in Python programs"
      ],
      "metadata": {
        "id": "zLDnveUicwhu"
      }
    },
    {
      "cell_type": "markdown",
      "source": [
        "Ans Multiprocessing is a technique in computer programming that allows a program to run multiple processes simultaneously, leveraging multiple CPU cores to perform tasks in parallel. In Python, multiprocessing refers specifically to creating multiple processes, each with its own memory space, to execute different tasks concurrently. This is particularly helpful for CPU-bound tasks that require significant computational power.\n",
        "\n",
        "Why Multiprocessing is Important in Python\n",
        "Python’s default interpreter, CPython, has a limitation called the Global Interpreter Lock (GIL). The GIL prevents multiple native threads from executing Python bytecode at once, which can be a bottleneck when trying to achieve true parallelism in CPU-bound tasks. While multithreading is still useful for I/O-bound tasks (e.g., reading files, network operations), it does not improve performance in CPU-bound operations because of the GIL.\n",
        "\n",
        "Multiprocessing bypasses this limitation by creating separate processes, each with its own Python interpreter and memory space, effectively allowing for true parallel execution. This means that each process can utilize a different CPU core, leading to better performance and faster execution of CPU-intensive tasks.\n",
        "\n",
        "Benefits of Using Multiprocessing\n",
        "True Parallelism: Each process runs independently and can execute on a separate CPU core. This allows for genuine parallelism, as processes do not share the same memory space or GIL.\n",
        "\n",
        "Improved Performance for CPU-Bound Tasks: Tasks that require heavy computation, such as data analysis, machine learning algorithms, or image processing, benefit significantly from multiprocessing.\n",
        "\n",
        "Fault Isolation: Each process has its own memory space, so if one process crashes, it does not affect the other processes or the main program. This isolation improves the robustness of the program.\n",
        "\n",
        "Scalability: Multiprocessing is particularly beneficial on multi-core systems, allowing programs to take advantage of modern hardware.\n",
        "\n",
        "How Multiprocessing is Used in Python\n",
        "The Python multiprocessing module provides the tools needed to create, manage, and synchronize processes. Here are some of its key features:\n",
        "\n",
        "Process Creation: Using multiprocessing.Process, you can spawn a new process and define its target function.\n",
        "\n",
        "Process Pooling: With multiprocessing.Pool, you can create a pool of worker processes, which can be reused for multiple tasks. This is efficient for executing a large number of small tasks.\n",
        "\n",
        "Inter-Process Communication (IPC): The module provides pipes, queues, and other mechanisms for processes to communicate with each other, as they do not share memory.\n",
        "\n",
        "Synchronization: Locks, semaphores, and other synchronization primitives are available for coordinating processes when necessary.\n",
        "\n",
        "Example of Multiprocessing in Python\n",
        "Here’s a simple example that demonstrates the use of multiprocessing to calculate squares of numbers in parallel:"
      ],
      "metadata": {
        "id": "r-wogE_OdPJ8"
      }
    },
    {
      "cell_type": "code",
      "source": [
        "from multiprocessing import Process\n",
        "\n",
        "def square(x):\n",
        "    print(f\"The square of {x} is {x * x}\")\n",
        "\n",
        "# Creating multiple processes\n",
        "processes = []\n",
        "for i in range(5):\n",
        "    p = Process(target=square, args=(i,))\n",
        "    processes.append(p)\n",
        "    p.start()\n",
        "\n",
        "# Waiting for all processes to complete\n",
        "for p in processes:\n",
        "    p.join()\n"
      ],
      "metadata": {
        "colab": {
          "base_uri": "https://localhost:8080/"
        },
        "id": "L8Fth8zudFkF",
        "outputId": "67b2bd64-d8e4-458a-9353-6054e371a2c6"
      },
      "execution_count": 2,
      "outputs": [
        {
          "output_type": "stream",
          "name": "stdout",
          "text": [
            "The square of 0 is 0\n",
            "The square of 1 is 1\n",
            "The square of 2 is 4\n",
            "The square of 3 is 9\n",
            "The square of 4 is 16\n"
          ]
        }
      ]
    },
    {
      "cell_type": "markdown",
      "source": [
        "In this example:\n",
        "\n",
        "Each Process is created to execute the square function for a different input.\n",
        "The start() method launches each process, and join() ensures that the main program waits for each process to complete.\n",
        "Use Cases for Multiprocessing\n",
        "Multiprocessing is ideal for:\n",
        "\n",
        "Data Analysis: Parallelizing tasks like data transformations or computations across large datasets.\n",
        "Scientific Computing: Performing complex calculations that can be divided into independent parts.\n",
        "Machine Learning and AI: Running training processes on different models or data subsets concurrently.\n",
        "Image and Video Processing: Parallelizing tasks such as image filtering, transformation, or rendering.\n",
        "Limitations\n",
        "While multiprocessing is powerful, it also has some challenges:\n",
        "\n",
        "Memory Overhead: Each process has its own memory space, which can lead to higher memory usage compared to multithreading.\n",
        "Inter-Process Communication Complexity: Communicating between processes requires careful management, as they do not share memory.\n",
        "Process Creation Overhead: Creating processes can be slower than creating threads, so for tasks that require quick start-up and low overhead, threads may still be preferred.\n",
        "Summary\n",
        "In summary, multiprocessing in Python enables true parallelism by bypassing the GIL, allowing CPU-bound tasks to take full advantage of multi-core systems. It’s widely used for performance optimization in computationally heavy applications, especially when large data processing or complex calculations are involved."
      ],
      "metadata": {
        "id": "NTdD2AnhdcL8"
      }
    },
    {
      "cell_type": "markdown",
      "source": [
        "Q4 Write a Python program using multithreading where one thread adds numbers to a list, and another thread removes numbers from the list. Implement a mechanism to avoid race conditions using threading.Lock."
      ],
      "metadata": {
        "id": "bvYLydBRdjPm"
      }
    },
    {
      "cell_type": "code",
      "source": [
        "import threading\n",
        "import time\n",
        "\n",
        "def add_numbers(numbers, lock):\n",
        "    for i in range(10):\n",
        "        with lock:\n",
        "            numbers.append(i)\n",
        "        time.sleep(1)\n",
        "\n",
        "def remove_numbers(numbers, lock):\n",
        "    for i in range(5):\n",
        "        with lock:\n",
        "            if numbers:\n",
        "                numbers.pop()\n",
        "        time.sleep(1)\n",
        "\n",
        "if __name__ == \"__main__\":\n",
        "    numbers = []\n",
        "    lock = threading.Lock()\n",
        "\n",
        "    t1 = threading.Thread(target=add_numbers, args=(numbers, lock))\n",
        "    t2 = threading.Thread(target=remove_numbers, args=(numbers, lock))\n",
        "\n",
        "    t1.start()\n",
        "    t2.start()\n",
        "\n",
        "    t1.join()\n",
        "    t2.join()\n",
        "\n",
        "    print(numbers)"
      ],
      "metadata": {
        "colab": {
          "base_uri": "https://localhost:8080/"
        },
        "id": "Nk-5lgLfeWJa",
        "outputId": "42dfff20-ef1f-4c8e-88b9-009e891faf32"
      },
      "execution_count": 6,
      "outputs": [
        {
          "output_type": "stream",
          "name": "stdout",
          "text": [
            "[4, 5, 6, 7, 8, 9]\n"
          ]
        }
      ]
    },
    {
      "cell_type": "markdown",
      "source": [
        "Explanation:\n",
        "\n",
        "Import necessary modules: threading for thread management and time for introducing delays.\n",
        "Define functions:\n",
        "add_numbers: Adds numbers to the numbers list.\n",
        "remove_numbers: Removes numbers from the numbers list.\n",
        "Create a lock: A threading.Lock() object is created to synchronize access to the shared numbers list.\n",
        "Create threads: Two threads are created, one for each function.\n",
        "Start threads: The start() method is called on each thread to initiate execution.\n",
        "Join threads: The join() method is called on each thread to wait for its completion.\n",
        "Print the final list: The final contents of the numbers list are printed.\n",
        "How the Lock Prevents Race Conditions:\n",
        "\n",
        "Acquiring the Lock: Before accessing the shared numbers list, the thread acquires the lock using the with lock: statement.\n",
        "Exclusive Access: Only one thread can hold the lock at a time.\n",
        "Releasing the Lock: When the thread is done with the shared resource, it releases the lock, allowing other threads to access it.\n",
        "By using the lock, we ensure that only one thread can modify the numbers list at a time, preventing race conditions and ensuring data integrity."
      ],
      "metadata": {
        "id": "ueruWae_eePk"
      }
    },
    {
      "cell_type": "markdown",
      "source": [
        "Q5 Describe the methods and tools available in Python for safely sharing data between threads and processes."
      ],
      "metadata": {
        "id": "cMlglkBYehCT"
      }
    },
    {
      "cell_type": "markdown",
      "source": [
        "Ans Sharing Data Between Threads and Processes in Python\n",
        "\n",
        "Python offers several mechanisms to safely share data between threads and processes. The choice of method depends on the specific use case, the type of data being shared, and the desired level of synchronization.\n",
        "\n",
        "Sharing Data Between Threads\n",
        "\n",
        "1. Shared Memory:\n",
        "\n",
        "Shared Arrays: Using libraries like NumPy, you can create shared arrays that can be accessed and modified by multiple threads.\n",
        "Memory-Mapped Files: These allow multiple processes to access the same data by mapping a file into memory.\n",
        "2. Queues:\n",
        "\n",
        "Queue: This is a thread-safe queue that can be used to pass data between threads.\n",
        "LifoQueue: A Last-In-First-Out queue.\n",
        "PriorityQueue: A queue that sorts items by priority.\n",
        "3. Locks and Semaphores:\n",
        "\n",
        "Lock: A simple lock that can be acquired and released to synchronize access to shared resources.\n",
        "Semaphore: A more flexible synchronization primitive that can be used to control the number of threads accessing a shared resource.\n",
        "Sharing Data Between Processes\n",
        "\n",
        "1. Shared Memory:\n",
        "\n",
        "Shared Memory: Using libraries like multiprocessing.shared_memory, you can create shared memory blocks that can be accessed by multiple processes.\n",
        "2. Queues:\n",
        "\n",
        "Queue: A thread-safe queue that can be used to pass data between processes.\n",
        "Manager: A class that provides a way to create shared objects like lists, dictionaries, and queues that can be accessed by multiple processes.\n",
        "3. Pipes:\n",
        "\n",
        "Pipe: A unidirectional communication channel that can be used to send data from one process to another.\n",
        "4. Files:\n",
        "\n",
        "Files can be used to share data between processes, but this can be less efficient than other methods.\n",
        "Key Considerations:\n",
        "\n",
        "Synchronization: When sharing data between threads, it's essential to use appropriate synchronization mechanisms to prevent race conditions and data corruption.\n",
        "Memory Safety: Be mindful of memory management, especially when using shared memory.\n",
        "Performance: The choice of method can impact performance. Consider factors like the size of the data, the frequency of access, and the number of processes or threads involved.\n",
        "Complexity: Some methods, like shared memory, can be more complex to implement and require careful attention to synchronization.\n",
        "By understanding these methods and tools, you can effectively share data between threads and processes in your Python applications, ensuring safe and efficient concurrent programming."
      ],
      "metadata": {
        "id": "YqMr58RReqba"
      }
    },
    {
      "cell_type": "markdown",
      "source": [
        "Q6 Discuss why it’s crucial to handle exceptions in concurrent programs and the techniques available for doing so."
      ],
      "metadata": {
        "id": "_vdmsfdWesfT"
      }
    },
    {
      "cell_type": "markdown",
      "source": [
        "Ans Why Exception Handling is Crucial in Concurrent Programs\n",
        "\n",
        "Exception handling is even more critical in concurrent programs than in sequential ones due to the following reasons:\n",
        "\n",
        "Unpredictable Behavior: In concurrent programs, multiple threads or processes can execute independently, leading to unpredictable interactions and potential race conditions. Exceptions in one thread can propagate to others, causing unexpected behavior and system instability.\n",
        "Shared Resource Access: When multiple threads or processes access shared resources, there's a higher risk of conflicts and errors. Exceptions can occur if one thread modifies a shared resource while another is accessing it.\n",
        "Complex Error Scenarios: Concurrent programs often involve intricate patterns of communication and synchronization. A single exception in one part of the program can trigger a cascade of errors in other parts.\n",
        "Techniques for Handling Exceptions in Concurrent Programs\n",
        "\n",
        "Try-Except Blocks:\n",
        "\n",
        "Basic Exception Handling: Similar to sequential programs, use try-except blocks to catch and handle exceptions.\n",
        "Context Managers: Use with statements to ensure proper resource management and exception handling, even in the presence of exceptions.\n",
        "Thread-Specific Exception Handling:\n",
        "\n",
        "Thread-Local Storage: Use threading.local() to store thread-specific data, including exception information. This can help isolate exceptions to individual threads.\n",
        "Inter-Thread Communication and Exception Propagation:\n",
        "\n",
        "Queues: Use queues to communicate between threads. If an exception occurs in a worker thread, it can be sent to the main thread via the queue.\n",
        "Signals: Use signals to interrupt threads and propagate exceptions. However, be cautious, as signals can disrupt the normal flow of execution.\n",
        "Process-Specific Exception Handling:\n",
        "\n",
        "Process Pools: Use multiprocessing.Pool to manage worker processes. The map and apply_async methods can be used to submit tasks and handle exceptions.\n",
        "Inter-Process Communication: Use pipes or queues to communicate between processes and propagate exceptions.\n",
        "Global Exception Handlers:\n",
        "\n",
        "Top-Level Exception Handlers: Implement a top-level try-except block to catch unhandled exceptions and take appropriate actions, such as logging or graceful shutdown.\n",
        "Best Practices for Exception Handling in Concurrent Programs:\n",
        "\n",
        "Isolate Exception Handling: Try to isolate exception handling to specific parts of the code to avoid disrupting the entire program.\n",
        "Log Exceptions: Use a robust logging system to record exceptions, including error messages, stack traces, and relevant context information.\n",
        "Graceful Shutdown: Implement mechanisms to gracefully shut down threads or processes in case of exceptions, preventing resource leaks and data corruption.\n",
        "Test Thoroughly: Write comprehensive unit and integration tests to identify and fix potential exception scenarios.\n",
        "Consider Asynchronous Programming: Asynchronous programming can help simplify exception handling by using async/await syntax and asyncio library.\n",
        "By following these techniques and best practices, you can effectively handle exceptions in concurrent programs, ensuring their reliability and robustness."
      ],
      "metadata": {
        "id": "SEEvbYSke7tx"
      }
    },
    {
      "cell_type": "markdown",
      "source": [
        "Q7  Create a program that uses a thread pool to calculate the factorial of numbers from 1 to 10 concurrently.Use concurrent.futures.ThreadPoolExecutor to manage the threads."
      ],
      "metadata": {
        "id": "QoXyHciVe95U"
      }
    },
    {
      "cell_type": "markdown",
      "source": [
        "Ans Here’s a Python program that uses concurrent.futures.ThreadPoolExecutor to calculate the factorial of numbers from 1 to 10 concurrently. Each factorial calculation is assigned to a thread in the thread pool, allowing the calculations to run in parallel."
      ],
      "metadata": {
        "id": "FsoRYGLofm8d"
      }
    },
    {
      "cell_type": "code",
      "source": [
        "from concurrent.futures import ThreadPoolExecutor\n",
        "import math\n",
        "\n",
        "# Function to calculate factorial\n",
        "def calculate_factorial(n):\n",
        "    print(f\"Calculating factorial of {n}\")\n",
        "    return math.factorial(n)\n",
        "\n",
        "# List of numbers to calculate factorial for\n",
        "numbers = range(1, 11)\n",
        "\n",
        "# Create a ThreadPoolExecutor with a pool of threads\n",
        "with ThreadPoolExecutor() as executor:\n",
        "    # Submit tasks to the thread pool and retrieve results\n",
        "    futures = {executor.submit(calculate_factorial, num): num for num in numbers}\n",
        "\n",
        "    # Process the results as they complete\n",
        "    for future in futures:\n",
        "        number = futures[future]\n",
        "        try:\n",
        "            result = future.result()\n",
        "            print(f\"Factorial of {number} is {result}\")\n",
        "        except Exception as e:\n",
        "            print(f\"An error occurred while calculating factorial of {number}: {e}\")\n"
      ],
      "metadata": {
        "colab": {
          "base_uri": "https://localhost:8080/"
        },
        "id": "etaGJAgGfbp-",
        "outputId": "1e28ea76-0fb4-4b95-988d-7f2238dd8d84"
      },
      "execution_count": 10,
      "outputs": [
        {
          "output_type": "stream",
          "name": "stdout",
          "text": [
            "Calculating factorial of 1Calculating factorial of 2\n",
            "Calculating factorial of 3\n",
            "\n",
            "Calculating factorial of 4\n",
            "Calculating factorial of 5\n",
            "Calculating factorial of 6\n",
            "Factorial of 1 is 1\n",
            "Factorial of 2 is 2\n",
            "Factorial of 3 is 6\n",
            "Factorial of 4 is 24\n",
            "Factorial of 5 is 120\n",
            "Factorial of 6 is 720\n",
            "Calculating factorial of 7\n",
            "Calculating factorial of 8Factorial of 7 is 5040\n",
            "\n",
            "Calculating factorial of 9Factorial of 8 is 40320\n",
            "\n",
            "Calculating factorial of 10Factorial of 9 is 362880\n",
            "\n",
            "Factorial of 10 is 3628800\n"
          ]
        }
      ]
    },
    {
      "cell_type": "markdown",
      "source": [
        "Explanation of the Code\n",
        "Factorial Function: calculate_factorial is a simple function that takes an integer n and returns its factorial using math.factorial.\n",
        "\n",
        "Thread Pool Setup: We use ThreadPoolExecutor to create a pool of threads, which manages concurrent execution. Here, the default number of threads will be used, but you can specify it as ThreadPoolExecutor(max_workers=5) or another number to control the pool size.\n",
        "\n",
        "Submitting Tasks: For each number in the numbers list (1 to 10), we submit a task to the executor, passing the calculate_factorial function and the number as arguments. The executor.submit function returns a Future object that represents the asynchronous execution of the function.\n",
        "\n",
        "Collecting and Printing Results: We loop over each Future object in futures. Calling future.result() will return the result of the factorial calculation when it’s completed. If there’s an exception during execution, it’s caught and printed.\n",
        "\n",
        "Sample Output\n",
        "The output might look like this (the order may vary because of concurrent execution):"
      ],
      "metadata": {
        "id": "yRtMDITofpWX"
      }
    },
    {
      "cell_type": "markdown",
      "source": [
        "This program uses the thread pool effectively to calculate factorials concurrently, making full use of available CPU resources while managing thread lifecycles efficiently."
      ],
      "metadata": {
        "id": "A9PnhKucfwwd"
      }
    },
    {
      "cell_type": "markdown",
      "source": [
        "Q8 Create a Python program that uses multiprocessing.Pool to compute the square of numbers from 1 to 10 in parallel. Measure the time taken to perform this computation using a pool of different sizes (e.g., 2, 4, 8 processes)."
      ],
      "metadata": {
        "id": "C-dKX1smgSRP"
      }
    },
    {
      "cell_type": "code",
      "source": [
        "import multiprocessing\n",
        "import time\n",
        "\n",
        "def square(x):\n",
        "    return x * x\n",
        "\n",
        "def main(num_processes):\n",
        "    start_time = time.time()\n",
        "\n",
        "    with multiprocessing.Pool(num_processes) as pool:\n",
        "        results = pool.map(square, range(1, 11))\n",
        "\n",
        "    end_time = time.time()\n",
        "    print(f\"Results: {results}\")\n",
        "    print(f\"Time taken with {num_processes} processes: {end_time - start_time:.2f} seconds\")\n",
        "\n",
        "if __name__ == \"__main__\":\n",
        "    for num_processes in [2, 4, 8]:\n",
        "        main(num_processes)"
      ],
      "metadata": {
        "colab": {
          "base_uri": "https://localhost:8080/"
        },
        "id": "QhRVCar-hGGG",
        "outputId": "310ad5b0-dc2d-4d64-cc4f-46a19d118e1a"
      },
      "execution_count": 15,
      "outputs": [
        {
          "output_type": "stream",
          "name": "stdout",
          "text": [
            "Results: [1, 4, 9, 16, 25, 36, 49, 64, 81, 100]\n",
            "Time taken with 2 processes: 0.03 seconds\n",
            "Results: [1, 4, 9, 16, 25, 36, 49, 64, 81, 100]\n",
            "Time taken with 4 processes: 0.04 seconds\n",
            "Results: [1, 4, 9, 16, 25, 36, 49, 64, 81, 100]\n",
            "Time taken with 8 processes: 0.09 seconds\n"
          ]
        }
      ]
    },
    {
      "cell_type": "markdown",
      "source": [
        "Explanation:\n",
        "\n",
        "Import necessary modules:\n",
        "\n",
        "multiprocessing: For multiprocessing capabilities.\n",
        "time: For measuring execution time.\n",
        "Define the square function:\n",
        "\n",
        "Takes a number x as input and returns its square.\n",
        "Define the main function:\n",
        "\n",
        "Takes the number of processes as input.\n",
        "Records the start time.\n",
        "Creates a multiprocessing.Pool with the specified number of processes.\n",
        "Uses pool.map() to apply the square function to each number in the range 1 to 10 in parallel.\n",
        "Records the end time.\n",
        "Prints the results and the time taken.\n",
        "Main execution block:\n",
        "\n",
        "Iterates over different numbers of processes (2, 4, 8) and calls the main function for each.\n",
        "How it works:\n",
        "\n",
        "The multiprocessing.Pool creates a pool of worker processes.\n",
        "The pool.map() function distributes the square function calls to these worker processes.\n",
        "Each worker process calculates the square of its assigned number independently.\n",
        "The results are collected and printed.\n",
        "By experimenting with different numbers of processes, you can observe how multiprocessing can significantly improve performance for computationally intensive tasks. However, keep in mind that increasing the number of processes beyond a certain point may not always lead to linear performance improvements due to overhead factors like process creation and communication."
      ],
      "metadata": {
        "id": "534Mps0chJxn"
      }
    }
  ]
}