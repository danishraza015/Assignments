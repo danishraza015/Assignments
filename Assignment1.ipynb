{
  "cells": [
    {
      "cell_type": "code",
      "execution_count": null,
      "metadata": {},
      "outputs": [],
      "source": []
    },
    {
      "cell_type": "markdown",
      "metadata": {
        "id": "CEKsmolVRDN8"
      },
      "source": [
        "Q1. Explain the key features of Python that make it a popular choice for programming?\n",
        "\n",
        "Ans:- Python's popularity as a programming language stems from several key features:\n",
        "\n",
        "1.\tReadability and Simplicity: Python's syntax is clear and straightforward, which makes it easy to read and write. This simplicity encourages good programming practices and helps new programmers learn quickly.\n",
        "\n",
        "\n",
        "2.\tVersatility: Python is a multi-paradigm language that supports procedural, object-oriented, and functional programming. This flexibility allows developers to choose the best approach for their specific tasks.\n",
        "\n",
        "3.\tExtensive Libraries and Frameworks: Python boasts a vast ecosystem of libraries and frameworks, such as NumPy, pandas, TensorFlow, Flask, and Django, which facilitate various tasks from data analysis to web development and machine learning.\n",
        "\n",
        "4.\tCommunity Support: Python has a large and active community, which means abundant resources, documentation, and third-party modules are available. This community support helps troubleshoot issues and fosters collaboration.\n",
        "\n",
        "5.\tCross-Platform Compatibility: Python can run on various operating systems, including Windows, macOS, and Linux. This portability makes it a great choice for developing cross-platform applications.\n",
        "\n",
        "6.\tDynamic Typing: Python uses dynamic typing, which allows developers to write less code and be more flexible. Variables can change type, making the language adaptable and reducing the need for verbose declarations.\n",
        "\n",
        "7.\tStrong Integration Capabilities: Python can easily integrate with other languages (like C, C++, and Java) and technologies (like REST APIs), making it suitable for various applications and environments.\n",
        "\n",
        "8.\tRobust Data Handling: With libraries like pandas and NumPy, Python excels in data manipulation and analysis, making it a favourite for data science and machine learning projects.\n",
        "\n",
        "9.\tRapid Development: The combination of simplicity and powerful libraries allows developers to build and iterate on projects quickly, making Python ideal for startups and prototyping.\n",
        "\n",
        "10.\tSupport for Automation: Python is often used for scripting and automation tasks, which can streamline workflows and reduce repetitive tasks in various fields.\n",
        "\n",
        "These features contribute to Python’s strong adoption across diverse domains, from web development to data science and beyond.\n"
      ]
    },
    {
      "cell_type": "markdown",
      "metadata": {
        "id": "NDVSQc09ROZ6"
      },
      "source": [
        "Q2. Describe the role of predefined keywords in Python and provide examples of how they are used in a program?\n",
        "\n",
        "Ans:- In Python, predefined keywords are special identifiers that have specific meanings and cannot be used as variable names or identifiers. These keywords define the syntax and structure of the Python language, enabling developers to write clear and effective code.\n",
        "Here are some important roles of predefined keywords in Python, along with examples:\n",
        "1.\tControl Flow\n",
        "Keywords like if, elif, else, for, and while control the flow of execution in a program.\n",
        "Example:\n"
      ]
    },
    {
      "cell_type": "code",
      "execution_count": 2,
      "metadata": {
        "colab": {
          "base_uri": "https://localhost:8080/"
        },
        "id": "t4C5rQHlRSwJ",
        "outputId": "88e5ada2-7184-45f3-c3e0-85dac1b1a950"
      },
      "outputs": [
        {
          "name": "stdout",
          "output_type": "stream",
          "text": [
            "You are just an adult.\n"
          ]
        }
      ],
      "source": [
        "age = 18\n",
        "\n",
        "if age < 18:\n",
        " \t   print(\"You are a minor.\")\n",
        "elif age == 18:\n",
        "    print(\"You are just an adult.\")\n",
        "else:\n",
        "    print(\"You are an adult.\")\n"
      ]
    },
    {
      "cell_type": "markdown",
      "metadata": {
        "id": "cgk5Gb-mRbR3"
      },
      "source": [
        "2.\tFunction Definition\n",
        "The def keyword is used to define functions.\n",
        "Example:\n"
      ]
    },
    {
      "cell_type": "code",
      "execution_count": 3,
      "metadata": {
        "colab": {
          "base_uri": "https://localhost:8080/"
        },
        "id": "d9MW_HwGRjD-",
        "outputId": "0e3d545d-0729-4bdd-b530-cf6a4ea0f8e1"
      },
      "outputs": [
        {
          "name": "stdout",
          "output_type": "stream",
          "text": [
            "Hello, Alice!\n"
          ]
        }
      ],
      "source": [
        "def greet(name):\n",
        "    return f\"Hello, {name}!\"\n",
        "\n",
        "print(greet(\"Alice\"))\n"
      ]
    },
    {
      "cell_type": "markdown",
      "metadata": {
        "id": "oqteS2Y8RxTy"
      },
      "source": [
        "3.\tClass Definition\n",
        "The class keyword is used to define new classes.\n",
        "Example:\n"
      ]
    },
    {
      "cell_type": "code",
      "execution_count": 8,
      "metadata": {
        "colab": {
          "base_uri": "https://localhost:8080/"
        },
        "id": "1GBJFNTXSFFt",
        "outputId": "f92ff4d3-2e7c-4bae-f3a9-b595cd54b437"
      },
      "outputs": [
        {
          "name": "stdout",
          "output_type": "stream",
          "text": [
            "Dog says hello!\n"
          ]
        }
      ],
      "source": [
        "class Animal:\n",
        "    def __init__(self, name):\n",
        "        self.name = name\n",
        "\n",
        "    def speak(self):\n",
        "        return f\"{self.name} says hello!\"\n",
        "\n",
        "dog = Animal(\"Dog\")\n",
        "print(dog.speak())\n"
      ]
    },
    {
      "cell_type": "markdown",
      "metadata": {
        "id": "jR6rG9EHSVbN"
      },
      "source": [
        "4.\tException Handling\n",
        "Keywords like try, except, finally, and raise are used for handling exceptions.\n",
        "Example:\n"
      ]
    },
    {
      "cell_type": "code",
      "execution_count": 9,
      "metadata": {
        "colab": {
          "base_uri": "https://localhost:8080/"
        },
        "id": "Fc88gcDzSZMi",
        "outputId": "6fcd2b0e-de71-4cb5-d6f5-194791e9b2b7"
      },
      "outputs": [
        {
          "name": "stdout",
          "output_type": "stream",
          "text": [
            "You can't divide by zero!\n",
            "This block always executes.\n"
          ]
        }
      ],
      "source": [
        "try:\n",
        "    result = 10 / 0\n",
        "except ZeroDivisionError:\n",
        "    print(\"You can't divide by zero!\")\n",
        "finally:\n",
        "    print(\"This block always executes.\")\n"
      ]
    },
    {
      "cell_type": "markdown",
      "metadata": {
        "id": "gpOeegksSdWh"
      },
      "source": [
        "5. Data Structures\n",
        "Keywords like list, dict, and set are often associated with the creation of built-in data structures.\n",
        "\n",
        "Example:"
      ]
    },
    {
      "cell_type": "code",
      "execution_count": 10,
      "metadata": {
        "colab": {
          "base_uri": "https://localhost:8080/"
        },
        "id": "Q1CHbiGFSoaO",
        "outputId": "ccdf77d3-04a7-4b3c-b185-c7aa8d1e054d"
      },
      "outputs": [
        {
          "name": "stdout",
          "output_type": "stream",
          "text": [
            "[1, 2, 3, 4]\n",
            "{'key': 'value'}\n"
          ]
        }
      ],
      "source": [
        "my_list = [1, 2, 3, 4]\n",
        "my_dict = {\"key\": \"value\"}\n",
        "\n",
        "print(my_list)\n",
        "print(my_dict)\n"
      ]
    },
    {
      "cell_type": "markdown",
      "metadata": {
        "id": "a7PfU-nPSrpK"
      },
      "source": [
        "6. Logical Operations\n",
        "Keywords like and, or, and not are used to perform logical operations.\n",
        "\n",
        "Example:"
      ]
    },
    {
      "cell_type": "code",
      "execution_count": 11,
      "metadata": {
        "colab": {
          "base_uri": "https://localhost:8080/"
        },
        "id": "jqQpbLpuSu98",
        "outputId": "848e2489-36ee-49f7-d723-6b57afc7fb01"
      },
      "outputs": [
        {
          "name": "stdout",
          "output_type": "stream",
          "text": [
            "Condition is True\n"
          ]
        }
      ],
      "source": [
        "x = True\n",
        "y = False\n",
        "\n",
        "if x and not y:\n",
        "    print(\"Condition is True\")\n"
      ]
    },
    {
      "cell_type": "markdown",
      "metadata": {
        "id": "QJbdA5rKSzNs"
      },
      "source": [
        "7. Importing Modules\n",
        "The import keyword is used to include external modules.\n",
        "\n",
        "Example:"
      ]
    },
    {
      "cell_type": "code",
      "execution_count": 12,
      "metadata": {
        "colab": {
          "base_uri": "https://localhost:8080/"
        },
        "id": "5bCIzJWkS2Iz",
        "outputId": "88b0867b-e4a4-49fc-c6e1-eac1aa262c50"
      },
      "outputs": [
        {
          "name": "stdout",
          "output_type": "stream",
          "text": [
            "4.0\n"
          ]
        }
      ],
      "source": [
        "import math\n",
        "\n",
        "print(math.sqrt(16))\n"
      ]
    },
    {
      "cell_type": "markdown",
      "metadata": {
        "id": "9cXmIQetS_BN"
      },
      "source": [
        "Q3. Compare and contrast mutable and immutable objects in Python with examples?\n",
        "Ans:- In Python, objects can be categorized as mutable or immutable based on whether their state or value can be changed after they are created. Here’s a comparison of the two, along with examples:\n",
        "Mutable Objects\n",
        "Definition: Mutable objects can be changed or modified after they are created. This means you can alter their contents without creating a new object.\n",
        "Examples of Mutable Objects:\n",
        "•\tLists\n",
        "•\tDictionaries\n",
        "•\tSets\n",
        "Example of a Mutable Object (List):\n"
      ]
    },
    {
      "cell_type": "code",
      "execution_count": 13,
      "metadata": {
        "colab": {
          "base_uri": "https://localhost:8080/"
        },
        "id": "566D0RiETCo1",
        "outputId": "36b84dae-cd4c-4f4a-b1e3-7473f1b9b511"
      },
      "outputs": [
        {
          "name": "stdout",
          "output_type": "stream",
          "text": [
            "[1, 2, 3, 4]\n",
            "[10, 2, 3, 4]\n"
          ]
        }
      ],
      "source": [
        "# Creating a list\n",
        "my_list = [1, 2, 3]\n",
        "\n",
        "# Modifying the list\n",
        "my_list.append(4)  # Adding an element\n",
        "print(my_list)  # Output: [1, 2, 3, 4]\n",
        "\n",
        "my_list[0] = 10  # Changing an existing element\n",
        "print(my_list)  # Output: [10, 2, 3, 4]\n"
      ]
    },
    {
      "cell_type": "markdown",
      "metadata": {
        "id": "R7h6GuyRTJ1L"
      },
      "source": [
        "Immutable Objects\n",
        "Definition: Immutable objects cannot be changed or modified after they are created. Any modification results in the creation of a new object.\n",
        "Examples of Immutable Objects:\n",
        "•\tStrings\n",
        "•\tTuples\n",
        "•\tFrozensets\n",
        "Example of an Immutable Object (String):\n"
      ]
    },
    {
      "cell_type": "code",
      "execution_count": 14,
      "metadata": {
        "colab": {
          "base_uri": "https://localhost:8080/"
        },
        "id": "aeWMxymNTLDk",
        "outputId": "db5003c9-2ae9-45f3-ab5b-e585756e7165"
      },
      "outputs": [
        {
          "name": "stdout",
          "output_type": "stream",
          "text": [
            "hello\n"
          ]
        }
      ],
      "source": [
        "# Creating a string\n",
        "my_string = \"Hello\"\n",
        "\n",
        "# Attempting to modify the string\n",
        "# my_string[0] = \"h\"  # This will raise an error: TypeError\n",
        "\n",
        "# Instead, creating a new string\n",
        "new_string = \"h\" + my_string[1:]  # Creating a new modified string\n",
        "print(new_string)  # Output: \"hello\"\n"
      ]
    },
    {
      "cell_type": "markdown",
      "metadata": {
        "id": "sesbYiYHTcho"
      },
      "source": [
        "Q4. Discuss the different types of operators in Python and provide examples of how they are used.\n",
        "Ans:- Python supports various types of operators that allow you to perform different kinds of operations. Here’s an overview of the main types of operators, along with examples of how they are used:\n",
        "1.\tArithmetic Operators\n",
        "These operators are used to perform mathematical operations.\n",
        "Operator\tDescription\tExample\n",
        "+\tAddition\t5 + 3 → 8\n",
        "-\tSubtraction\t5 - 3 → 2\n",
        "*\tMultiplication\t5 * 3 → 15\n",
        "/\tDivision\t5 / 2 → 2.5\n",
        "//\tFloor Division\t5 // 2 → 2\n",
        "%\tModulus\t5 % 2 → 1\n",
        "**\tExponentiation\t2 ** 3 → 8\n",
        "2.\tComparison Operators\n",
        "These operators compare two values and return a Boolean result (True or False).\n",
        "Operator\tDescription\tExample\n",
        "==\tEqual to\t5 == 5 → True\n",
        "!=\tNot equal to\t5 != 3 → True\n",
        ">\tGreater than\t5 > 3 → True\n",
        "<\tLess than\t5 < 3 → False\n",
        ">=\tGreater than or equal\t5 >= 5 → True\n",
        "<=\tLess than or equal\t5 <= 3 → False\n",
        "\n",
        "3.\tLogical Operators\n",
        "These operators are used to combine conditional statements.\n",
        "Operator\tDescription\tExample\n",
        "and\tLogical AND\t(True and False) → False\n",
        "or\tLogical OR\t(True or False) → True\n",
        "not\tLogical NOT\tnot True → False\n",
        "\n",
        "4.\tAssignment Operators\n",
        "These operators are used to assign values to variables.\n",
        "Operator\tDescription\tExample\n",
        "=\tAssign\tx = 5\n",
        "+=\tAdd and assign\tx += 2 (equiv. to x = x + 2)\n",
        "-=\tSubtract and assign\tx -= 2\n",
        "*=\tMultiply and assign\tx *= 2\n",
        "/=\tDivide and assign\tx /= 2\n",
        "%=\tModulus and assign\tx %= 2\n",
        "5.\tBitwise Operators\n",
        "These operators perform operations on bits.\n",
        "Operator\tDescription\tExample\n",
        "&\tBitwise AND\t5 & 3 → 1\n",
        "`\t`\tBitwise OR\n",
        "^\tBitwise XOR\t5 ^ 3 → 6\n",
        "~\tBitwise NOT\t~5 → -6\n",
        "<<\tLeft Shift\t5 << 1 → 10\n",
        ">>\tRight Shift\t5 >> 1 → 2\n",
        "\n",
        "6.\tIdentity Operators\n",
        "These operators are used to check the memory location of objects.\n",
        "Operator\tDescription\tExample\n",
        "is\tChecks if two variables point to the same object\tx is y\n",
        "is not\tChecks if two variables do not point to the same object\tx is not y\n",
        "\n",
        "7.\tMembership Operators\n",
        "These operators are used to check if a value is a member of a sequence (like a list, tuple, or string).\n",
        "Operator\tDescription\tExample\n",
        "in\tChecks if a value is in a sequence\t5 in [1, 2, 3, 4, 5] → True\n",
        "not in\tChecks if a value is not in a sequence\t5 not in [1, 2, 3, 4] → True\n",
        "\n"
      ]
    },
    {
      "cell_type": "markdown",
      "metadata": {
        "id": "lipjP0tMThLX"
      },
      "source": [
        "Q5. Explain the concept of type casting in Python with examples?\n",
        "Ans:- Type casting in Python refers to the conversion of one data type into another. This is often necessary when you need to perform operations between different types or when you want to ensure that data is in the correct format for processing. Python provides several built-in functions to facilitate type casting.\n",
        "Types of Type Casting\n",
        "1.\tImplicit Type Casting (Automatic)\n",
        "2.\tExplicit Type Casting (Manual)\n",
        "1. Implicit Type Casting\n",
        "This occurs when Python automatically converts one data type to another. It typically happens when operations involve mixed data types, and Python promotes the smaller type to a larger type to prevent data loss.\n",
        "Example:\n"
      ]
    },
    {
      "cell_type": "code",
      "execution_count": 15,
      "metadata": {
        "colab": {
          "base_uri": "https://localhost:8080/"
        },
        "id": "iQsuzeFrTiPF",
        "outputId": "0d3dedd7-49a0-497a-c46b-f86bc7c5cc24"
      },
      "outputs": [
        {
          "name": "stdout",
          "output_type": "stream",
          "text": [
            "7.5\n",
            "<class 'float'>\n"
          ]
        }
      ],
      "source": [
        "# Implicit type casting\n",
        "a = 5       # int\n",
        "b = 2.5     # float\n",
        "\n",
        "result = a + b  # int is automatically converted to float\n",
        "print(result)    # Output: 7.5\n",
        "print(type(result))  # Output: <class 'float'>\n"
      ]
    },
    {
      "cell_type": "markdown",
      "metadata": {
        "id": "L9DX2xgRTvL9"
      },
      "source": [
        "2. Explicit Type Casting\n",
        "This occurs when you manually convert one data type to another using built-in functions. Common functions for type casting include:\n",
        "•\tint(): Converts to an integer\n",
        "•\tfloat(): Converts to a float\n",
        "•\tstr(): Converts to a string\n",
        "•\tlist(): Converts to a list\n",
        "•\ttuple(): Converts to a tuple\n",
        "Examples:\n"
      ]
    },
    {
      "cell_type": "code",
      "execution_count": 16,
      "metadata": {
        "colab": {
          "base_uri": "https://localhost:8080/"
        },
        "id": "SC75YnXATwTJ",
        "outputId": "96eb83d3-dc76-4e38-91f9-2e1017afc2ad"
      },
      "outputs": [
        {
          "name": "stdout",
          "output_type": "stream",
          "text": [
            "10\n",
            "<class 'int'>\n"
          ]
        }
      ],
      "source": [
        "#Converting to Integer:\n",
        "\n",
        "x = 10.7\n",
        "y = int(x)  # Converts float to int\n",
        "print(y)    # Output: 10\n",
        "print(type(y))  # Output: <class 'int'>\n"
      ]
    },
    {
      "cell_type": "code",
      "execution_count": 17,
      "metadata": {
        "colab": {
          "base_uri": "https://localhost:8080/"
        },
        "id": "i4s3HGJST45O",
        "outputId": "747ebb32-24dd-41ed-84e5-bd13f29e909a"
      },
      "outputs": [
        {
          "name": "stdout",
          "output_type": "stream",
          "text": [
            "3.14\n",
            "<class 'float'>\n"
          ]
        }
      ],
      "source": [
        "#Converting to Float:\n",
        "\n",
        "a = \"3.14\"\n",
        "b = float(a)  # Converts string to float\n",
        "print(b)      # Output: 3.14\n",
        "print(type(b))  # Output: <class 'float'>\n"
      ]
    },
    {
      "cell_type": "code",
      "execution_count": 18,
      "metadata": {
        "colab": {
          "base_uri": "https://localhost:8080/"
        },
        "id": "JWO9QkemT-iG",
        "outputId": "ed46ddaf-d378-4891-f26b-be6d4b2fc649"
      },
      "outputs": [
        {
          "name": "stdout",
          "output_type": "stream",
          "text": [
            "100\n",
            "<class 'str'>\n"
          ]
        }
      ],
      "source": [
        "#Converting to String:\n",
        "\n",
        "num = 100\n",
        "str_num = str(num)  # Converts int to string\n",
        "print(str_num)      # Output: \"100\"\n",
        "print(type(str_num))  # Output: <class 'str'>\n"
      ]
    },
    {
      "cell_type": "code",
      "execution_count": 19,
      "metadata": {
        "colab": {
          "base_uri": "https://localhost:8080/"
        },
        "id": "qTLf_P_SUG_2",
        "outputId": "b7ad8766-bc09-45a1-d5e3-5b6bb7b5fcb2"
      },
      "outputs": [
        {
          "name": "stdout",
          "output_type": "stream",
          "text": [
            "[1, 2, 3]\n",
            "<class 'list'>\n"
          ]
        }
      ],
      "source": [
        "#Converting to List:\n",
        "my_tuple = (1, 2, 3)\n",
        "my_list = list(my_tuple)  # Converts tuple to list\n",
        "print(my_list)             # Output: [1, 2, 3]\n",
        "print(type(my_list))       # Output: <class 'list'>\n"
      ]
    },
    {
      "cell_type": "code",
      "execution_count": 20,
      "metadata": {
        "colab": {
          "base_uri": "https://localhost:8080/"
        },
        "id": "JsqB6Uq4UL7b",
        "outputId": "a4e4c216-6733-4f38-bb2c-a892568aeaa1"
      },
      "outputs": [
        {
          "name": "stdout",
          "output_type": "stream",
          "text": [
            "(1, 2, 3)\n",
            "<class 'tuple'>\n"
          ]
        }
      ],
      "source": [
        "#Converting to Tuple:\n",
        "my_list = [1, 2, 3]\n",
        "my_tuple = tuple(my_list)  # Converts list to tuple\n",
        "print(my_tuple)             # Output: (1, 2, 3)\n",
        "print(type(my_tuple))       # Output: <class 'tuple'>\n"
      ]
    },
    {
      "cell_type": "markdown",
      "metadata": {
        "id": "l9fjx2wHUVNi"
      },
      "source": [
        "Q6. How do conditional statements work in Python? Illustrate with examples.\n",
        "Ans:-  Conditional statements in Python allow you to execute certain blocks of code based on specific conditions. The primary conditional statements are if, elif, and else. Here's how they work, along with examples:\n",
        "1. The if Statement\n",
        "The if statement evaluates a condition and executes a block of code if the condition is True.\n",
        "Example:\n"
      ]
    },
    {
      "cell_type": "code",
      "execution_count": 21,
      "metadata": {
        "colab": {
          "base_uri": "https://localhost:8080/"
        },
        "id": "FD6BPXOaUWUU",
        "outputId": "9989ca89-8c26-442c-8e66-6b8f66a6c17f"
      },
      "outputs": [
        {
          "name": "stdout",
          "output_type": "stream",
          "text": [
            "You are an adult.\n"
          ]
        }
      ],
      "source": [
        "age = 20\n",
        "\n",
        "if age >= 18:\n",
        " \t   print(\"You are an adult.\")\n"
      ]
    },
    {
      "cell_type": "markdown",
      "metadata": {
        "id": "O1HyB3hbUg3H"
      },
      "source": [
        "2. The else Statement\n",
        "The else statement provides an alternative block of code that executes if the if condition is False.\n",
        "Example:\n"
      ]
    },
    {
      "cell_type": "code",
      "execution_count": 22,
      "metadata": {
        "colab": {
          "base_uri": "https://localhost:8080/"
        },
        "id": "gXD6A5XnUhty",
        "outputId": "e3115052-1d8d-4328-fb51-f517a3ad31f3"
      },
      "outputs": [
        {
          "name": "stdout",
          "output_type": "stream",
          "text": [
            "You are a minor.\n"
          ]
        }
      ],
      "source": [
        "age = 16\n",
        "\n",
        "if age >= 18:\n",
        "    print(\"You are an adult.\")\n",
        "else:\n",
        "    print(\"You are a minor.\")\n"
      ]
    },
    {
      "cell_type": "markdown",
      "metadata": {
        "id": "nF58UqjjUmJd"
      },
      "source": [
        "3. The elif Statement\n",
        "The elif (short for \"else if\") statement allows you to check multiple conditions sequentially. If the first if condition is False, it checks the elif conditions in order.\n",
        "Example:\n"
      ]
    },
    {
      "cell_type": "code",
      "execution_count": 23,
      "metadata": {
        "colab": {
          "base_uri": "https://localhost:8080/"
        },
        "id": "C6uxaHAdUpcs",
        "outputId": "11b3eedf-8b08-4116-f2d3-65fd22c5a36b"
      },
      "outputs": [
        {
          "name": "stdout",
          "output_type": "stream",
          "text": [
            "You are an adult.\n"
          ]
        }
      ],
      "source": [
        "age = 18\n",
        "\n",
        "if age < 13:\n",
        "    print(\"You are a child.\")\n",
        "elif age < 18:\n",
        "    print(\"You are a teenager.\")\n",
        "else:\n",
        "    print(\"You are an adult.\")\n"
      ]
    },
    {
      "cell_type": "markdown",
      "metadata": {
        "id": "KORxJ433UvSD"
      },
      "source": [
        "4. Combining Conditions\n",
        "You can combine multiple conditions using logical operators (and, or, not).\n",
        "Example:\n"
      ]
    },
    {
      "cell_type": "code",
      "execution_count": 24,
      "metadata": {
        "colab": {
          "base_uri": "https://localhost:8080/"
        },
        "id": "xq5OYKHgUzgp",
        "outputId": "e39127db-015b-4c2e-f3d4-207128ae760d"
      },
      "outputs": [
        {
          "name": "stdout",
          "output_type": "stream",
          "text": [
            "You are an adult student.\n"
          ]
        }
      ],
      "source": [
        "age = 20\n",
        "is_student = True\n",
        "\n",
        "if age < 18:\n",
        "    print(\"You are a minor.\")\n",
        "elif age >= 18 and is_student:\n",
        "    print(\"You are an adult student.\")\n",
        "else:\n",
        "    print(\"You are an adult.\")\n"
      ]
    },
    {
      "cell_type": "markdown",
      "metadata": {
        "id": "bKHnoW5VU5X2"
      },
      "source": [
        "Here, since age is 20 and is_student is True, the output will be \"You are an adult student.\""
      ]
    },
    {
      "cell_type": "markdown",
      "metadata": {
        "id": "2-4UGm4mU8IQ"
      },
      "source": [
        "Nested Conditional Statements\n",
        "You can also nest conditional statements within each other.\n",
        "Example:\n"
      ]
    },
    {
      "cell_type": "code",
      "execution_count": 25,
      "metadata": {
        "colab": {
          "base_uri": "https://localhost:8080/"
        },
        "id": "rt6A1J_bU_mZ",
        "outputId": "c3faa6e7-2c88-4b89-ca87-b20e461b85b8"
      },
      "outputs": [
        {
          "name": "stdout",
          "output_type": "stream",
          "text": [
            "You are an adult.\n",
            "You are also an employee.\n"
          ]
        }
      ],
      "source": [
        "age = 25\n",
        "is_employee = True\n",
        "\n",
        "if age >= 18:\n",
        "    print(\"You are an adult.\")\n",
        "    if is_employee:\n",
        "        print(\"You are also an employee.\")\n",
        "    else:\n",
        "        print(\"You are not an employee.\")\n"
      ]
    },
    {
      "cell_type": "markdown",
      "metadata": {
        "id": "L8RqJyeDVMW6"
      },
      "source": [
        "Q7. Describe the different types of loops in Python and their use cases with examples.\n",
        "Ans:-  In Python, loops are used to execute a block of code repeatedly based on a specified condition or over a sequence. The two primary types of loops in Python are for loops and while loops. Here’s a detailed overview of each, along with examples and common use cases.\n",
        "1.\tFor Loop\n",
        "The for loop iterates over a sequence (like a list, tuple, dictionary, set, or string) and executes a block of code for each item in the sequence.\n",
        "Syntax:\n",
        "for variable in sequence:\n",
        "    # Code to execute\n",
        "Example:\n"
      ]
    },
    {
      "cell_type": "code",
      "execution_count": 26,
      "metadata": {
        "colab": {
          "base_uri": "https://localhost:8080/"
        },
        "id": "Gl7SO31GVOI-",
        "outputId": "6412c222-d637-4efb-99f5-428225575ed3"
      },
      "outputs": [
        {
          "name": "stdout",
          "output_type": "stream",
          "text": [
            "apple\n",
            "banana\n",
            "cherry\n"
          ]
        }
      ],
      "source": [
        "# Iterating over a list\n",
        "fruits = [\"apple\", \"banana\", \"cherry\"]\n",
        "\n",
        "for fruit in fruits:\n",
        "    print(fruit)\n"
      ]
    },
    {
      "cell_type": "markdown",
      "metadata": {
        "id": "ScFsURjJVYbv"
      },
      "source": [
        "Use Cases:\n",
        "•\tIterating over elements in a list, tuple, or set.\n",
        "•\tAccessing keys and values in a dictionary.\n",
        "•\tProcessing characters in a string.\n"
      ]
    },
    {
      "cell_type": "markdown",
      "metadata": {
        "id": "zDA9TtGUVZj0"
      },
      "source": [
        "2.\tWhile Loop\n",
        "The while loop repeatedly executes a block of code as long as a specified condition is True.\n",
        "Syntax:\n",
        "while condition:\n",
        "    # Code to execute\n",
        "Example:\n"
      ]
    },
    {
      "cell_type": "code",
      "execution_count": 27,
      "metadata": {
        "colab": {
          "base_uri": "https://localhost:8080/"
        },
        "id": "G2zN6IdxVdoC",
        "outputId": "88129616-8110-404c-c8e1-81414e35b0d7"
      },
      "outputs": [
        {
          "name": "stdout",
          "output_type": "stream",
          "text": [
            "5\n",
            "4\n",
            "3\n",
            "2\n",
            "1\n"
          ]
        }
      ],
      "source": [
        "# Counting down from 5\n",
        "count = 5\n",
        "\n",
        "while count > 0:\n",
        "    print(count)\n",
        "    count -= 1  # Decrementing count\n"
      ]
    },
    {
      "cell_type": "markdown",
      "metadata": {
        "id": "8oRHHdUTVqFk"
      },
      "source": [
        "Use Cases:\n",
        "•\tWhen the number of iterations is not known in advance.\n",
        "•\tContinuously executing code until a certain condition is met (e.g., waiting for user input).\n"
      ]
    },
    {
      "cell_type": "markdown",
      "metadata": {
        "id": "uquoeTYPVq0b"
      },
      "source": [
        "3.\tNested Loops\n",
        "You can nest loops within each other. This is useful for working with multi-dimensional data structures, like lists of lists.\n",
        "Example:\n"
      ]
    },
    {
      "cell_type": "code",
      "execution_count": 28,
      "metadata": {
        "colab": {
          "base_uri": "https://localhost:8080/"
        },
        "id": "wwumsSrPVvjs",
        "outputId": "6930367f-0241-4633-f129-b79500a74085"
      },
      "outputs": [
        {
          "name": "stdout",
          "output_type": "stream",
          "text": [
            "1 2 3 \n",
            "4 5 6 \n",
            "7 8 9 \n"
          ]
        }
      ],
      "source": [
        "# Nested for loop\n",
        "matrix = [[1, 2, 3], [4, 5, 6], [7, 8, 9]]\n",
        "\n",
        "for row in matrix:\n",
        "    for num in row:\n",
        "        print(num, end=' ')\n",
        "    print()  # Newline for the next row\n"
      ]
    },
    {
      "cell_type": "markdown",
      "metadata": {
        "id": "eUAQ__zqWY_c"
      },
      "source": [
        "4.\tLoop Control Statements\n",
        "Python also provides control statements that allow you to modify the loop's behavior:\n",
        "•\tbreak: Exits the loop prematurely.\n",
        "•\tcontinue: Skips the current iteration and continues with the next.\n",
        "•\tpass: Does nothing (used as a placeholder).\n",
        "Examples:\n"
      ]
    },
    {
      "cell_type": "code",
      "execution_count": 30,
      "metadata": {
        "colab": {
          "base_uri": "https://localhost:8080/"
        },
        "id": "02RKtkERWZxN",
        "outputId": "7a9452bc-5eee-435b-cea1-69aefc5c0814"
      },
      "outputs": [
        {
          "name": "stdout",
          "output_type": "stream",
          "text": [
            "0\n",
            "1\n",
            "2\n",
            "3\n",
            "4\n"
          ]
        }
      ],
      "source": [
        "#Using break:\n",
        "for num in range(10):\n",
        "    if num == 5:\n",
        "        break  # Exit loop when num is 5\n",
        "    print(num)\n"
      ]
    },
    {
      "cell_type": "code",
      "execution_count": 33,
      "metadata": {
        "colab": {
          "base_uri": "https://localhost:8080/"
        },
        "id": "JIqqrbGaWsT2",
        "outputId": "1afddb15-29cb-411f-fad7-4b28330728f7"
      },
      "outputs": [
        {
          "name": "stdout",
          "output_type": "stream",
          "text": [
            "0\n",
            "1\n",
            "3\n",
            "4\n"
          ]
        }
      ],
      "source": [
        "#Using continue:\n",
        "\n",
        "for num in range(5):\n",
        "    if num == 2:\n",
        "        continue  # Skip the iteration when num is 2\n",
        "    print(num)\n"
      ]
    },
    {
      "cell_type": "code",
      "execution_count": 32,
      "metadata": {
        "colab": {
          "base_uri": "https://localhost:8080/"
        },
        "id": "rpDMifWcW0Yl",
        "outputId": "dbf82b0f-34f3-4293-8943-ec1c68a358ac"
      },
      "outputs": [
        {
          "name": "stdout",
          "output_type": "stream",
          "text": [
            "0\n",
            "1\n",
            "2\n"
          ]
        }
      ],
      "source": [
        "#Using pass:\n",
        "for num in range(3):\n",
        "    if num == 1:\n",
        "        pass  # Placeholder for future code\n",
        "    print(num)\n"
      ]
    }
  ],
  "metadata": {
    "colab": {
      "provenance": []
    },
    "kernelspec": {
      "display_name": "Python 3",
      "name": "python3"
    },
    "language_info": {
      "name": "python"
    }
  },
  "nbformat": 4,
  "nbformat_minor": 0
}
