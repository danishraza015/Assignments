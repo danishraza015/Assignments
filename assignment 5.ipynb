{
  "nbformat": 4,
  "nbformat_minor": 0,
  "metadata": {
    "colab": {
      "provenance": []
    },
    "kernelspec": {
      "name": "python3",
      "display_name": "Python 3"
    },
    "language_info": {
      "name": "python"
    }
  },
  "cells": [
    {
      "cell_type": "markdown",
      "source": [
        "#Theoretical question"
      ],
      "metadata": {
        "id": "jcWdw5lD1dfh"
      }
    },
    {
      "cell_type": "markdown",
      "source": [
        "Q1  Explain the purpose and advantages of NumPy in scientific computing and data analysis. How does it\n",
        "enhance Python's capabilities for numerical operations?"
      ],
      "metadata": {
        "id": "9zOp5nHxv8FI"
      }
    },
    {
      "cell_type": "markdown",
      "source": [
        "Ans NumPy, short for \"Numerical Python,\" is a fundamental package for scientific computing and data analysis in Python. It provides a powerful n-dimensional array object, tools for integrating C/C++ and Fortran code, and useful linear algebra, Fourier transform, and random number capabilities. Here’s a look at its purpose and advantages:\n",
        "\n",
        "1. Efficient Array and Matrix Operations\n",
        "NumPy introduces the ndarray (N-dimensional array) object, which is a fast, flexible container for large data sets, allowing operations over entire arrays rather than requiring element-by-element operations. This capability enhances Python's handling of matrices and arrays, making it easy to perform complex mathematical operations across entire data structures efficiently.\n",
        "\n",
        "2. Performance Optimization\n",
        "Python’s default lists are not well-suited for numerical computation due to their lack of support for vectorized operations and their slow processing speeds. NumPy arrays, by contrast, are:\n",
        "\n",
        "Memory-efficient: Arrays consume less memory than Python lists due to the way NumPy stores elements in contiguous memory.\n",
        "Highly optimized for speed: NumPy is implemented in C, allowing faster computation by reducing the need for explicit loops and taking advantage of low-level optimizations.\n",
        "3. Vectorized Operations and Broadcasting\n",
        "NumPy’s vectorized operations allow mathematical and logical operations to be performed on entire arrays without explicit loops. Broadcasting further allows these operations to happen even between arrays of different shapes, avoiding the need to reshape or duplicate data unnecessarily. This makes it ideal for large-scale data manipulation, especially in data science and machine learning workflows where operations over matrices and vectors are common.\n",
        "\n",
        "4. Comprehensive Mathematical Functions\n",
        "NumPy provides a suite of mathematical functions that cover a wide array of domains, including linear algebra, statistical analysis, and complex math. This extensive library of functions makes it easy to perform many mathematical operations efficiently without needing to reinvent functions or install multiple libraries.\n",
        "\n",
        "5. Interoperability with Other Libraries\n",
        "NumPy serves as the backbone for other major data analysis libraries in Python, like Pandas, SciPy, Scikit-Learn, and TensorFlow. It provides a standard for data arrays that other libraries can work with directly, making it easy to move data between libraries without conversion, enhancing overall productivity in scientific workflows.\n",
        "\n",
        "6. Integration with C/C++ and Fortran\n",
        "NumPy makes it easier to integrate C/C++ and Fortran code into Python, making it possible to leverage legacy code or highly optimized algorithms written in these languages. This capability is crucial for high-performance computing tasks, as it allows for both ease of use with Python and the speed of compiled languages.\n",
        "\n",
        "7. Community and Documentation\n",
        "NumPy has a vast user community and extensive documentation. As a widely used library, it offers numerous tutorials, forums, and examples that facilitate learning and troubleshooting, which is particularly beneficial for researchers and data scientists.\n",
        "\n",
        "In Summary\n",
        "NumPy extends Python’s capabilities in scientific computing and data analysis by providing optimized, fast, and memory-efficient data structures for handling numerical data. Its array operations, performance benefits, comprehensive functions, and interoperability make it an essential tool for anyone working in data science, machine learning, or engineering computations."
      ],
      "metadata": {
        "id": "JoCIaJwLwHIU"
      }
    },
    {
      "cell_type": "markdown",
      "source": [
        "Q2  Compare and contrast np.mean() and np.average() functions in NumPy. When would you use one over the other?"
      ],
      "metadata": {
        "id": "NgR_Dj81wJ8B"
      }
    },
    {
      "cell_type": "markdown",
      "source": [
        "Ans In NumPy, both np.mean() and np.average() functions compute the average of array elements, but they have some key differences in functionality and use cases.\n",
        "1. np.mean()\n",
        "Purpose: Computes the arithmetic mean (average) of array elements along a specified axis or for the flattened array by default.\n",
        "Syntax: np.mean(array, axis=None, dtype=None, out=None, keepdims=<no value>)\n",
        "Key Points:\n",
        "Does not accept weights, so each element is treated equally.\n",
        "Often faster and more lightweight due to the absence of weight processing.\n",
        "Example:"
      ],
      "metadata": {
        "id": "IEIV47BvwQHb"
      }
    },
    {
      "cell_type": "code",
      "source": [
        "import numpy as np\n",
        "arr = np.array([1, 2, 3, 4])\n",
        "mean = np.mean(arr)\n",
        "print(mean)  # Output: 2.5\n"
      ],
      "metadata": {
        "colab": {
          "base_uri": "https://localhost:8080/"
        },
        "id": "3DlWziRcweTu",
        "outputId": "ce97cafb-91a1-4adc-b85e-67ffd1eae262"
      },
      "execution_count": 3,
      "outputs": [
        {
          "output_type": "stream",
          "name": "stdout",
          "text": [
            "2.5\n"
          ]
        }
      ]
    },
    {
      "cell_type": "markdown",
      "source": [
        "2. np.average()\n",
        "Purpose: Computes the weighted average of array elements if weights are provided; otherwise, it behaves similarly to np.mean().\n",
        "Syntax: np.average(array, axis=None, weights=None, returned=False)\n",
        "Key Points:\n",
        "Weights: Can accept a weights parameter, which allows you to specify an array of weights that scales each element of the input array.\n",
        "Return Sum of Weights: With returned=True, it returns a tuple of the average and the sum of weights.\n",
        "Without weights, np.average() is essentially the same as np.mean().\n",
        "Example:"
      ],
      "metadata": {
        "id": "55D--y4lwhWz"
      }
    },
    {
      "cell_type": "code",
      "source": [
        "import numpy as np # Importing the numpy library and aliasing it as 'np'\n",
        "\n",
        "arr = np.array([1, 2, 3, 4])\n",
        "weights = np.array([1, 2, 3, 4])\n",
        "weighted_avg = np.average(arr, weights=weights)\n",
        "print(weighted_avg)  # Output: 3.0 (due to weighting)"
      ],
      "metadata": {
        "colab": {
          "base_uri": "https://localhost:8080/"
        },
        "id": "bqnyqcq4wwMw",
        "outputId": "b6222fde-80bc-4eb7-9093-75f0713bdc30"
      },
      "execution_count": 2,
      "outputs": [
        {
          "output_type": "stream",
          "name": "stdout",
          "text": [
            "3.0\n"
          ]
        }
      ]
    },
    {
      "cell_type": "markdown",
      "source": [
        "When to Use Each\n",
        "Use np.mean() when you need a straightforward arithmetic mean without any weighting, especially when performance is a priority.\n",
        "Use np.average() when you need a weighted mean, as np.mean() does not support weighting. It's useful in situations where different elements have varying levels of importance.\n",
        "In summary:\n",
        "\n",
        "np.mean() is ideal for unweighted means and simplicity.\n",
        "np.average() provides more flexibility with weighted means but has additional overhead if weights aren’t needed.\n",
        "\n",
        "\n",
        "\n",
        "\n",
        "\n"
      ],
      "metadata": {
        "id": "yNOzOtfRwlTd"
      }
    },
    {
      "cell_type": "markdown",
      "source": [
        "Q3 Describe the methods for reversing a NumPy array along different axes. Provide examples for 1D and 2D\n",
        "arrays."
      ],
      "metadata": {
        "id": "qIECHcatw1-T"
      }
    },
    {
      "cell_type": "markdown",
      "source": [
        "Ans Reversing a NumPy array along different axes can be achieved with various methods, including slicing, the np.flip function, and the np.flipud and np.fliplr functions. Below are detailed examples for reversing both 1D and 2D arrays.\n",
        "1. Reversing a 1D Array\n",
        "For a 1D array, reversing it is simple. You can use slicing or np.flip.\n",
        "Example:  "
      ],
      "metadata": {
        "id": "9DTZBaKqxQjm"
      }
    },
    {
      "cell_type": "code",
      "source": [
        "import numpy as np\n",
        "\n",
        "# Create a 1D array\n",
        "arr_1d = np.array([1, 2, 3, 4, 5])\n",
        "\n",
        "# Method 1: Using slicing\n",
        "reversed_arr_1d = arr_1d[::-1]\n",
        "\n",
        "# Method 2: Using np.flip\n",
        "reversed_arr_1d_flip = np.flip(arr_1d)\n",
        "\n",
        "print(\"Original 1D Array:\", arr_1d)\n",
        "print(\"Reversed 1D Array (slicing):\", reversed_arr_1d)\n",
        "print(\"Reversed 1D Array (np.flip):\", reversed_arr_1d_flip)\n"
      ],
      "metadata": {
        "colab": {
          "base_uri": "https://localhost:8080/"
        },
        "id": "Ud_9y5sfxei-",
        "outputId": "ea8ddaaa-0c0b-44e1-82ad-320529a7566d"
      },
      "execution_count": 4,
      "outputs": [
        {
          "output_type": "stream",
          "name": "stdout",
          "text": [
            "Original 1D Array: [1 2 3 4 5]\n",
            "Reversed 1D Array (slicing): [5 4 3 2 1]\n",
            "Reversed 1D Array (np.flip): [5 4 3 2 1]\n"
          ]
        }
      ]
    },
    {
      "cell_type": "markdown",
      "source": [
        "2. Reversing a 2D Array\n",
        "In a 2D array, you can reverse along different axes (rows or columns) or both. Here are some methods:\n",
        "\n",
        "Example:"
      ],
      "metadata": {
        "id": "IQ2H2BxNxiVy"
      }
    },
    {
      "cell_type": "code",
      "source": [
        "# Create a 2D array\n",
        "arr_2d = np.array([[1, 2, 3], [4, 5, 6], [7, 8, 9]])\n",
        "\n",
        "# Method 1: Reverse along rows (axis=0)\n",
        "reversed_arr_2d_rows = arr_2d[::-1, :]\n",
        "\n",
        "# Method 2: Reverse along columns (axis=1)\n",
        "reversed_arr_2d_cols = arr_2d[:, ::-1]\n",
        "\n",
        "# Method 3: Reverse both rows and columns\n",
        "reversed_arr_2d_both = arr_2d[::-1, ::-1]\n",
        "\n",
        "# Method 4: Using np.flip along axis 0 (rows)\n",
        "reversed_arr_2d_flip_rows = np.flip(arr_2d, axis=0)\n",
        "\n",
        "# Method 5: Using np.flip along axis 1 (columns)\n",
        "reversed_arr_2d_flip_cols = np.flip(arr_2d, axis=1)\n",
        "\n",
        "print(\"Original 2D Array:\\n\", arr_2d)\n",
        "print(\"Reversed 2D Array along rows:\\n\", reversed_arr_2d_rows)\n",
        "print(\"Reversed 2D Array along columns:\\n\", reversed_arr_2d_cols)\n",
        "print(\"Reversed 2D Array along both rows and columns:\\n\", reversed_arr_2d_both)\n",
        "print(\"Reversed 2D Array (np.flip, axis=0):\\n\", reversed_arr_2d_flip_rows)\n",
        "print(\"Reversed 2D Array (np.flip, axis=1):\\n\", reversed_arr_2d_flip_cols)\n"
      ],
      "metadata": {
        "id": "dVOf_2izxl3q"
      },
      "execution_count": null,
      "outputs": []
    },
    {
      "cell_type": "markdown",
      "source": [
        "Explanation of Each Method\n",
        "Slicing: This uses negative indexing to reverse the array along specified dimensions.\n",
        "np.flip: Allows for specifying the axis to reverse. In 2D, axis=0 reverses rows, and axis=1 reverses columns.\n",
        "np.flipud and np.fliplr: np.flipud reverses along rows, while np.fliplr reverses along columns for 2D arrays."
      ],
      "metadata": {
        "id": "OGITyiqhxoLd"
      }
    },
    {
      "cell_type": "markdown",
      "source": [
        "Q4  How can you determine the data type of elements in a NumPy array? Discuss the importance of data types\n",
        "in memory management and performance."
      ],
      "metadata": {
        "id": "NsVduGUwxsdD"
      }
    },
    {
      "cell_type": "markdown",
      "source": [
        "Ans To determine the data type of elements in a NumPy array, you can use the dtype attribute. Here’s an example:"
      ],
      "metadata": {
        "id": "bB2xRa1pxuAP"
      }
    },
    {
      "cell_type": "code",
      "source": [
        "import numpy as np\n",
        "\n",
        "# Create an array\n",
        "arr = np.array([1, 2, 3])\n",
        "\n",
        "# Get the data type of the array elements\n",
        "print(arr.dtype)\n"
      ],
      "metadata": {
        "colab": {
          "base_uri": "https://localhost:8080/"
        },
        "id": "rOaJZs18xzuf",
        "outputId": "4380b7fd-de8a-430d-f23b-f9f554092cf1"
      },
      "execution_count": 5,
      "outputs": [
        {
          "output_type": "stream",
          "name": "stdout",
          "text": [
            "int64\n"
          ]
        }
      ]
    },
    {
      "cell_type": "markdown",
      "source": [
        "In this example, arr.dtype will output the data type of the elements in the array, such as int32, float64, etc., depending on the values and specified type.\n",
        "\n",
        "Importance of Data Types in Memory Management and Performance\n",
        "Memory Management:\n",
        "\n",
        "Each data type in NumPy corresponds to a specific amount of memory. For instance, an int32 (32-bit integer) requires 4 bytes per element, while an int64 (64-bit integer) requires 8 bytes per element.\n",
        "Choosing the correct data type based on your data’s requirements can significantly reduce memory usage. For example, if you only need to store integers within a small range, using int8 or int16 rather than int64 can save considerable memory, especially with large datasets.\n",
        "Performance:\n",
        "\n",
        "NumPy arrays are often used in large-scale numerical computations. Smaller data types allow for faster data access and processing, as the system can load more data into memory at once.\n",
        "Operations on arrays with smaller data types (e.g., int32 vs. int64) can be faster since they require fewer CPU cycles and take up less space in the CPU cache, which improves computation speed.\n",
        "By selecting an appropriate data type, you can optimize both memory usage and performance, which is crucial in high-performance computing, machine learning, and data science applications where efficiency matters."
      ],
      "metadata": {
        "id": "TXazzl-Wx2qp"
      }
    },
    {
      "cell_type": "markdown",
      "source": [
        "Q5 Define ndarrays in NumPy and explain their key features. How do they differ from standard Python lists?"
      ],
      "metadata": {
        "id": "Y6ubw9zVyBOY"
      }
    },
    {
      "cell_type": "markdown",
      "source": [
        "Ans In NumPy, an ndarray (n-dimensional array) is the core data structure, representing a grid of values, all of which are of the same data type. Unlike standard Python lists, which can hold heterogeneous data types (e.g., integers, floats, strings) and vary in length, ndarrays are designed for efficient numerical computations and are optimized for operations on large datasets.\n",
        "\n",
        "Key Features of ndarrays\n",
        "Homogeneous Data: All elements in an ndarray have the same data type, making it more memory-efficient than lists.\n",
        "Fixed Size: Once created, the size of an ndarray is fixed. You cannot add or remove elements directly, though you can create a new array with modifications.\n",
        "N-dimensional Structure: ndarrays can have multiple dimensions (1D, 2D, 3D, etc.), allowing for representation of more complex data like matrices and tensors.\n",
        "Efficient Memory Layout: The data is stored in contiguous memory blocks, which enhances performance, especially for large arrays, as it allows NumPy to leverage low-level optimizations.\n",
        "Broadcasting: This feature enables operations between arrays of different shapes, such as adding a scalar to a matrix or two arrays of different sizes in a way that expands the smaller array to match the larger one.\n",
        "Vectorized Operations: ndarrays allow for element-wise operations without explicit loops, using highly optimized C and Fortran code under the hood.\n",
        "Numerical Functions: NumPy provides a rich library of mathematical functions, statistical tools, and linear algebra routines specifically designed to work with ndarrays.\n",
        "Differences from Standard Python Lists\n",
        "Type Consistency: Python lists can hold elements of mixed data types, whereas ndarrays enforce a single data type for all elements.\n",
        "Speed and Memory Efficiency: ndarrays are more memory- and speed-efficient due to contiguous memory storage, which avoids the need for Python's overhead of handling different types.\n",
        "Operations and Broadcasting: Lists do not support broadcasting, vectorized operations, or many of the advanced mathematical functions available in NumPy for ndarrays.\n",
        "Dimensional Flexibility: While lists can represent n-dimensional data through nested lists, ndarrays handle n-dimensional data natively, providing more flexibility and easier manipulation for multi-dimensional data.\n",
        "Example\n",
        "Here's a simple comparison between a Python list and an ndarray:"
      ],
      "metadata": {
        "id": "ooQygXlXyFSF"
      }
    },
    {
      "cell_type": "code",
      "source": [
        "# Standard Python list\n",
        "lst = [1, 2, 3, 4]\n",
        "# NumPy ndarray\n",
        "import numpy as np\n",
        "arr = np.array([1, 2, 3, 4])\n"
      ],
      "metadata": {
        "id": "XsNxfY-_yThv"
      },
      "execution_count": null,
      "outputs": []
    },
    {
      "cell_type": "markdown",
      "source": [
        "Now, multiplying each element by 2 would work differently:"
      ],
      "metadata": {
        "id": "BD73ffPiyg6r"
      }
    },
    {
      "cell_type": "code",
      "source": [
        "# Multiplying elements in the list\n",
        "lst_multiplied = [x * 2 for x in lst]  # Output: [2, 4, 6, 8]\n",
        "\n",
        "# Multiplying elements in the ndarray\n",
        "arr_multiplied = arr * 2  # Output: array([2, 4, 6, 8])\n"
      ],
      "metadata": {
        "id": "v4dD_OPfyjdZ"
      },
      "execution_count": null,
      "outputs": []
    },
    {
      "cell_type": "markdown",
      "source": [
        "In the case of ndarrays, the operation is vectorized, providing a cleaner syntax and greater efficiency."
      ],
      "metadata": {
        "id": "-KCX_viTyl4Z"
      }
    },
    {
      "cell_type": "markdown",
      "source": [
        "Q6  Analyze the performance benefits of NumPy arrays over Python lists for large-scale numerical operations"
      ],
      "metadata": {
        "id": "Jb5ArXSmyo_J"
      }
    },
    {
      "cell_type": "markdown",
      "source": [
        "Ans NumPy arrays offer several performance advantages over Python lists when dealing with large-scale numerical operations, largely due to their specialized data structures and optimization for numerical computation. Here’s an analysis of the key benefits:\n",
        "\n",
        "1. Memory Efficiency\n",
        "Fixed Data Type: NumPy arrays are homogeneously typed, meaning all elements in a NumPy array must be of the same type, typically float32, float64, or int32, among others. This allows them to use a contiguous block of memory for each array, whereas Python lists store pointers to Python objects, which introduces overhead.\n",
        "Smaller Memory Footprint: Since a NumPy array stores only the raw data without the extra object metadata that Python lists need, it can fit more data in memory and reduces memory consumption, especially for large datasets.\n",
        "2. Improved Performance\n",
        "Vectorized Operations: NumPy supports vectorized operations, which allow arithmetic operations to be applied on entire arrays or slices without the need for explicit loops. For instance, adding two arrays in NumPy can be done with array1 + array2 rather than looping through each element, reducing Python interpreter overhead and significantly speeding up execution.\n",
        "Lower-Level Implementations: NumPy is implemented in C and optimized for performance at a low level, with efficient use of CPU cache and avoidance of the Python interpreter's overhead. This low-level optimization enables faster execution, particularly for operations that would otherwise require a loop in Python.\n",
        "3. SIMD and Multithreading\n",
        "SIMD (Single Instruction, Multiple Data): NumPy operations are often vectorized with SIMD instructions, allowing the CPU to process multiple elements of the array in a single instruction cycle. This can greatly enhance performance for mathematical and logical operations over large arrays.\n",
        "Multithreaded Processing: Some NumPy functions are implemented to leverage multiple CPU cores where available, which speeds up operations further. For example, linear algebra operations and some mathematical functions can distribute computations across cores.\n",
        "4. Optimized Built-in Functions\n",
        "Broad Library of Fast Functions: NumPy offers a wide range of highly optimized functions for mathematical operations, including matrix manipulation, statistical analysis, and more. These built-in functions are usually much faster than custom implementations in pure Python.\n",
        "Memory Management: NumPy minimizes memory allocation by reusing memory locations whenever possible. Operations that would create new objects in Python, like slicing and reshaping, are designed to share data with the original array without making copies, leading to faster operations and reduced memory usage.\n",
        "5. Batch Processing\n",
        "Reduced Overhead for Large-Scale Data: NumPy’s batch processing capability allows operations to be applied to all elements of a large array at once. With Python lists, batch operations would require additional looping or list comprehensions, which introduces significant overhead for large datasets.\n",
        "Performance Summary\n",
        "In benchmarks, NumPy arrays can outperform Python lists by orders of magnitude, especially for large data volumes and computationally intensive tasks. For example, element-wise arithmetic operations on large datasets can be 10x to 100x faster in NumPy than Python lists due to memory efficiency, vectorization, and reduced overhead from interpreter calls.\n",
        "\n",
        "Conclusion\n",
        "For large-scale numerical and scientific computations, NumPy arrays offer major performance benefits over Python lists, making them the go-to choice for data manipulation, especially in fields like data science, machine learning, and scientific computing."
      ],
      "metadata": {
        "id": "wfd3OlHyyq0y"
      }
    },
    {
      "cell_type": "markdown",
      "source": [
        "Q7  Compare vstack() and hstack() functions in NumPy. Provide examples demonstrating their usage and\n",
        "output."
      ],
      "metadata": {
        "id": "ChkZeffXy5z-"
      }
    },
    {
      "cell_type": "markdown",
      "source": [
        "Ans In NumPy, the vstack() and hstack() functions are used to stack arrays vertically and horizontally, respectively.\n",
        "\n",
        "vstack(): This function is used to stack arrays vertically, meaning row-wise. It combines two or more arrays along the vertical axis (axis=0).\n",
        "\n",
        "Syntax: numpy.vstack((array1, array2, ...))\n",
        "Requirements: The arrays being stacked must have the same number of columns.\n",
        "hstack(): This function stacks arrays horizontally, meaning column-wise. It combines two or more arrays along the horizontal axis (axis=1).\n",
        "\n",
        "Syntax: numpy.hstack((array1, array2, ...))\n",
        "Requirements: The arrays must have the same number of rows.\n",
        "Examples\n",
        "Let's look at examples of both functions to see how they work."
      ],
      "metadata": {
        "id": "RBCmOed-zEtX"
      }
    },
    {
      "cell_type": "code",
      "source": [
        "import numpy as np\n",
        "\n",
        "# Define two arrays with the same number of columns\n",
        "array1 = np.array([[1, 2, 3], [4, 5, 6]])\n",
        "array2 = np.array([[7, 8, 9], [10, 11, 12]])\n",
        "\n",
        "# Using vstack to stack arrays vertically\n",
        "vstack_result = np.vstack((array1, array2))\n",
        "print(\"vstack result:\\n\", vstack_result)\n",
        "\n",
        "# Define two arrays with the same number of rows\n",
        "array3 = np.array([[1, 2], [3, 4]])\n",
        "array4 = np.array([[5, 6], [7, 8]])\n",
        "\n",
        "# Using hstack to stack arrays horizontally\n",
        "hstack_result = np.hstack((array3, array4))\n",
        "print(\"\\nhstack result:\\n\", hstack_result)\n"
      ],
      "metadata": {
        "id": "U9S1x3t3zJta"
      },
      "execution_count": null,
      "outputs": []
    },
    {
      "cell_type": "markdown",
      "source": [
        "Output"
      ],
      "metadata": {
        "id": "1oDyWOJGzM6v"
      }
    },
    {
      "cell_type": "code",
      "source": [
        "vstack result:\n",
        " [[ 1  2  3]\n",
        "  [ 4  5  6]\n",
        "  [ 7  8  9]\n",
        "  [10 11 12]]\n",
        "\n",
        "hstack result:\n",
        " [[1 2 5 6]\n",
        "  [3 4 7 8]]\n"
      ],
      "metadata": {
        "colab": {
          "base_uri": "https://localhost:8080/",
          "height": 106
        },
        "id": "zrolYrS0zlmf",
        "outputId": "25afdd9e-8865-4711-c55d-04f8df472785"
      },
      "execution_count": 8,
      "outputs": [
        {
          "output_type": "error",
          "ename": "SyntaxError",
          "evalue": "invalid syntax (<ipython-input-8-753323246f03>, line 1)",
          "traceback": [
            "\u001b[0;36m  File \u001b[0;32m\"<ipython-input-8-753323246f03>\"\u001b[0;36m, line \u001b[0;32m1\u001b[0m\n\u001b[0;31m    vstack result:\u001b[0m\n\u001b[0m           ^\u001b[0m\n\u001b[0;31mSyntaxError\u001b[0m\u001b[0;31m:\u001b[0m invalid syntax\n"
          ]
        }
      ]
    },
    {
      "cell_type": "markdown",
      "source": [
        "Explanation\n",
        "vstack() stacked array1 and array2 vertically, creating a 4x3 array by adding array2 as new rows beneath array1.\n",
        "hstack() stacked array3 and array4 horizontally, creating a 2x4 array by adding array4 as new columns to the right of array3."
      ],
      "metadata": {
        "id": "8WNNjwrgzSXa"
      }
    },
    {
      "cell_type": "markdown",
      "source": [
        "Q8  Explain the differences between fliplr() and flipud() methods in NumPy, including their effects on various\n",
        "array dimensions."
      ],
      "metadata": {
        "id": "YrYmsZyRzqNx"
      }
    },
    {
      "cell_type": "markdown",
      "source": [
        "Ans In NumPy, fliplr() and flipud() are functions used to reverse the order of elements in arrays, but they operate along different dimensions:\n",
        "\n",
        "1. fliplr()\n",
        "Meaning: \"Flip Left to Right\"\n",
        "Effect: It reverses the order of columns in a 2D array, effectively flipping the array along the vertical axis.\n",
        "Usage: np.fliplr(array)\n",
        "Supported Dimensions: Primarily for 2D arrays, though it can also operate on the last two dimensions of higher-dimensional arrays.\n",
        "Example:\n",
        "For a 2D array:"
      ],
      "metadata": {
        "id": "xGLYzrrLzxw4"
      }
    },
    {
      "cell_type": "code",
      "source": [
        "import numpy as np\n",
        "\n",
        "arr = np.array([[1, 2, 3],\n",
        "                [4, 5, 6]])\n",
        "\n",
        "flipped_arr = np.fliplr(arr)\n",
        "print(flipped_arr)\n"
      ],
      "metadata": {
        "id": "MmxnrxD7z0P_"
      },
      "execution_count": null,
      "outputs": []
    },
    {
      "cell_type": "markdown",
      "source": [
        "Output:"
      ],
      "metadata": {
        "id": "LKxBDGlQz5Fc"
      }
    },
    {
      "cell_type": "code",
      "source": [
        "[[3, 2, 1],\n",
        " [6, 5, 4]]\n"
      ],
      "metadata": {
        "id": "FsgyuPj-z7wb"
      },
      "execution_count": null,
      "outputs": []
    },
    {
      "cell_type": "markdown",
      "source": [
        "2. flipud()\n",
        "Meaning: \"Flip Up to Down\"\n",
        "Effect: It reverses the order of rows in a 2D array, effectively flipping the array along the horizontal axis.\n",
        "Usage: np.flipud(array)\n",
        "Supported Dimensions: Like fliplr, it is designed for 2D arrays but can work on the first two dimensions of higher-dimensional arrays.\n",
        "Example:\n",
        "For the same 2D array"
      ],
      "metadata": {
        "id": "o3uSCBiU0AfU"
      }
    },
    {
      "cell_type": "code",
      "source": [
        "flipped_arr_ud = np.flipud(arr)\n",
        "print(flipped_arr_ud)\n"
      ],
      "metadata": {
        "id": "QMB-EmZP0Fq-"
      },
      "execution_count": null,
      "outputs": []
    },
    {
      "cell_type": "markdown",
      "source": [
        "Output:"
      ],
      "metadata": {
        "id": "EVF_p68m0Rx-"
      }
    },
    {
      "cell_type": "code",
      "source": [
        "[[4, 5, 6],\n",
        " [1, 2, 3]]\n"
      ],
      "metadata": {
        "id": "bCFblIlt0T_R"
      },
      "execution_count": null,
      "outputs": []
    },
    {
      "cell_type": "markdown",
      "source": [
        "Summary\n",
        "fliplr() flips the array horizontally (left to right).\n",
        "flipud() flips the array vertically (up to down).\n",
        "In 3D or higher-dimensional arrays, fliplr() flips along the last axis and flipud() along the first axis, but both affect only the two axes they are designed for. For more complex flipping, consider np.flip(), which allows custom axis selection."
      ],
      "metadata": {
        "id": "rAVhDxbG0WXR"
      }
    },
    {
      "cell_type": "markdown",
      "source": [
        "Q9  Discuss the functionality of the array_split() method in NumPy. How does it handle uneven splits?"
      ],
      "metadata": {
        "id": "N6_-kPQM0YEh"
      }
    },
    {
      "cell_type": "markdown",
      "source": [
        "Ans\n",
        "The array_split() function in NumPy is used to split an array into multiple sub-arrays. This function is particularly useful when dividing an array into a specified number of chunks, even if the array length doesn't divide evenly into those chunks.\n",
        "\n",
        "Function Syntax"
      ],
      "metadata": {
        "id": "tmb8phyb0ghI"
      }
    },
    {
      "cell_type": "code",
      "source": [
        "numpy.array_split(array, sections, axis=0)\n"
      ],
      "metadata": {
        "id": "C3KVtkyu0i3d"
      },
      "execution_count": null,
      "outputs": []
    },
    {
      "cell_type": "markdown",
      "source": [
        "array: The input array to be split.\n",
        "sections: The number of equal (or as close as possible) sections to divide the array into, or a list of indices specifying where to split.\n",
        "axis: The axis along which to split the array (default is axis=0, or row-wise).\n",
        "Handling Uneven Splits\n",
        "When the array's length cannot be split evenly into the specified number of sections, array_split() distributes the remainder across the earlier sections. This ensures that all output arrays have nearly equal lengths, with the first few being slightly longer if necessary.\n",
        "\n",
        "Example:"
      ],
      "metadata": {
        "id": "p5DTlw6g0mYf"
      }
    },
    {
      "cell_type": "code",
      "source": [
        "import numpy as np\n",
        "\n",
        "# Original array\n",
        "array = np.array([1, 2, 3, 4, 5, 6, 7])\n",
        "\n",
        "# Splitting into 3 parts\n",
        "split_arrays = np.array_split(array, 3)\n",
        "\n",
        "print(split_arrays)\n"
      ],
      "metadata": {
        "id": "6ry4yf7v0ohj"
      },
      "execution_count": null,
      "outputs": []
    },
    {
      "cell_type": "markdown",
      "source": [
        "Output:"
      ],
      "metadata": {
        "id": "aZ8rvbtn0sp2"
      }
    },
    {
      "cell_type": "code",
      "source": [
        "import numpy as np\n",
        "\n",
        "# Original array\n",
        "array = np.array([1, 2, 3, 4, 5, 6, 7])\n",
        "\n",
        "# Splitting into 3 parts\n",
        "split_arrays = np.array_split(array, 3)\n",
        "\n",
        "# Print the split arrays.\n",
        "# Using 'print(split_arrays)' will automatically display the sub-arrays\n",
        "# without needing to specify 'array()'.\n",
        "print(split_arrays)"
      ],
      "metadata": {
        "colab": {
          "base_uri": "https://localhost:8080/"
        },
        "id": "-WEnNXm906bT",
        "outputId": "5fd3158d-3233-426e-cee5-6dfbebe68667"
      },
      "execution_count": 10,
      "outputs": [
        {
          "output_type": "stream",
          "name": "stdout",
          "text": [
            "[array([1, 2, 3]), array([4, 5]), array([6, 7])]\n"
          ]
        }
      ]
    },
    {
      "cell_type": "markdown",
      "source": [
        "In this example:\n",
        "\n",
        "The original array has 7 elements, which cannot be divided equally into 3 parts.\n",
        "array_split() returns 3 arrays, where the first has 3 elements and the others have 2 each.\n",
        "Key Points\n",
        "array_split() is a flexible way to handle uneven splits, ensuring that the array splits are as even as possible.\n",
        "Unlike split(), which throws an error if the array cannot be divided evenly, array_split() adjusts the size of the sub-arrays accordingly.\n",
        "This flexibility makes array_split() especially useful in applications where the exact array length is unknown or dynamic."
      ],
      "metadata": {
        "id": "XuqwlE7G0yKC"
      }
    },
    {
      "cell_type": "markdown",
      "source": [
        "Q10 Explain the concepts of vectorization and broadcasting in NumPy. How do they contribute to efficient array\n",
        "operations?"
      ],
      "metadata": {
        "id": "WUNtdaJU0-Rk"
      }
    },
    {
      "cell_type": "markdown",
      "source": [
        "Ans Vectorization and broadcasting are two fundamental techniques in NumPy that greatly enhance the efficiency of array operations. Let's break down each concept and understand how they contribute to performance improvements.\n",
        "\n",
        "Vectorization\n",
        "Vectorization is the process of rewriting operations so they can be applied directly to entire arrays (or \"vectors\") rather than processing elements one by one in loops. In NumPy, vectorized operations leverage highly optimized, low-level implementations (often in C) that allow operations to execute much faster than equivalent Python loops.\n",
        "\n",
        "For example:"
      ],
      "metadata": {
        "id": "g8REpHgo1DAf"
      }
    },
    {
      "cell_type": "code",
      "source": [
        "import numpy as np\n",
        "\n",
        "# Create two arrays\n",
        "a = np.array([1, 2, 3])\n",
        "b = np.array([4, 5, 6])\n",
        "\n",
        "# Vectorized addition\n",
        "c = a + b  # No loop needed\n"
      ],
      "metadata": {
        "id": "3D1XOZ8H1Hzc"
      },
      "execution_count": 12,
      "outputs": []
    },
    {
      "cell_type": "markdown",
      "source": [
        "In this code, adding a and b is a vectorized operation. NumPy performs the addition for each corresponding element in a single step, avoiding the need for an explicit for loop in Python. This approach is faster and more concise.\n",
        "\n",
        "Benefits of Vectorization:\n",
        "\n",
        "Speed: By avoiding Python loops and utilizing fast C-based implementations, vectorized operations are significantly faster.\n",
        "Code Simplicity: Vectorized code is typically cleaner and more concise.\n",
        "Reduced Overhead: Less interpreter overhead is needed since fewer Python operations are performed.\n",
        "Broadcasting\n",
        "Broadcasting allows NumPy to handle operations on arrays of different shapes in a way that is both memory-efficient and fast. When two arrays with different shapes are used in an operation, NumPy \"stretches\" the smaller array across the larger one to make their shapes compatible. However, rather than actually copying data, NumPy \"broadcasts\" the smaller array in a way that it appears as if it were the same shape as the larger array.\n",
        "\n",
        "For example:\n",
        "\n",
        "python\n",
        "Copy code\n",
        "a = np.array([1, 2, 3])  # Shape (3,)\n",
        "b = np.array([[1], [2], [3]])  # Shape (3, 1)\n",
        "\n",
        "# Broadcasting allows element-wise addition, treating 'a' as if it were shape (3, 3)\n",
        "result = a + b\n",
        "Here, a with shape (3,) is broadcast to (3, 3) to match b, enabling the element-wise addition.\n",
        "\n",
        "Rules for Broadcasting:\n",
        "\n",
        "If the two arrays have different numbers of dimensions, prepend 1s to the shape of the smaller array until the dimensions match.\n",
        "Arrays with a dimension of size 1 can be \"stretched\" to match the other array's dimension size.\n",
        "If any dimension sizes do not match (and neither is 1), broadcasting fails, and an error is raised.\n",
        "Benefits of Broadcasting:\n",
        "\n",
        "Memory Efficiency: Broadcasting avoids the need to create large intermediate arrays, saving memory and speeding up computation.\n",
        "Performance: By avoiding unnecessary data duplication, broadcasting allows operations to run faster and makes code more concise.\n",
        "How They Contribute to Efficient Array Operations\n",
        "Together, vectorization and broadcasting enable:\n",
        "\n",
        "Reduced Computational Complexity: Operations are executed at a lower level and on multiple elements simultaneously.\n",
        "Memory Efficiency: Broadcasting reduces memory requirements by avoiding extra array creation.\n",
        "Improved Readability: Cleaner, more concise code as explicit loops and temporary variables are minimized.\n",
        "This combination allows NumPy to perform operations quickly and with minimal memory use, making it ideal for handling large datasets and complex numerical computations."
      ],
      "metadata": {
        "id": "Y9d93rpY1L6e"
      }
    },
    {
      "cell_type": "markdown",
      "source": [
        "#Practical question"
      ],
      "metadata": {
        "id": "NmRpKzwe1qiL"
      }
    },
    {
      "cell_type": "markdown",
      "source": [
        "Q1 Create a 3x3 NumPy array with random integers between 1 and 100. Then, interchange its rows and columns."
      ],
      "metadata": {
        "id": "asr9tvQ-1yuY"
      }
    },
    {
      "cell_type": "markdown",
      "source": [
        "Ans Here’s the original 3x3 NumPy array with random integers between 1 and 100:"
      ],
      "metadata": {
        "id": "AbNyHM5K148E"
      }
    },
    {
      "cell_type": "code",
      "source": [
        "[[51, 77, 59],\n",
        " [34, 91, 68],\n",
        " [ 5, 38, 44]]\n"
      ],
      "metadata": {
        "colab": {
          "base_uri": "https://localhost:8080/"
        },
        "id": "a0fQJz8m18DU",
        "outputId": "a7605e91-ef32-43c4-e926-3bc9d8b8b1fd"
      },
      "execution_count": 13,
      "outputs": [
        {
          "output_type": "execute_result",
          "data": {
            "text/plain": [
              "[[51, 77, 59], [34, 91, 68], [5, 38, 44]]"
            ]
          },
          "metadata": {},
          "execution_count": 13
        }
      ]
    },
    {
      "cell_type": "markdown",
      "source": [
        "After interchanging its rows and columns (transposing the array), we get:"
      ],
      "metadata": {
        "id": "LAaSOM321_NU"
      }
    },
    {
      "cell_type": "code",
      "source": [
        "[[51, 34,  5],\n",
        " [77, 91, 38],\n",
        " [59, 68, 44]]\n"
      ],
      "metadata": {
        "id": "K2wIBTzm2BmI"
      },
      "execution_count": null,
      "outputs": []
    },
    {
      "cell_type": "code",
      "source": [
        "import numpy as np\n",
        "\n",
        "# Create a 3x3 NumPy array with random integers between 1 and 100\n",
        "array_3x3 = np.random.randint(1, 101, size=(3, 3))\n",
        "\n",
        "# Interchange its rows and columns (transpose the array)\n",
        "transposed_array = array_3x3.T\n",
        "\n",
        "array_3x3, transposed_array\n"
      ],
      "metadata": {
        "colab": {
          "base_uri": "https://localhost:8080/"
        },
        "id": "SHwnp4sI2F-6",
        "outputId": "3dd2d948-92cb-4a1c-9b95-e0d215aea60f"
      },
      "execution_count": 14,
      "outputs": [
        {
          "output_type": "execute_result",
          "data": {
            "text/plain": [
              "(array([[37, 63, 77],\n",
              "        [68,  9, 26],\n",
              "        [41, 76, 92]]),\n",
              " array([[37, 68, 41],\n",
              "        [63,  9, 76],\n",
              "        [77, 26, 92]]))"
            ]
          },
          "metadata": {},
          "execution_count": 14
        }
      ]
    },
    {
      "cell_type": "markdown",
      "source": [
        "Q2 Generate a 1D NumPy array with 10 elements. Reshape it into a 2x5 array, then into a 5x2 array"
      ],
      "metadata": {
        "id": "k5VDFQ8r2UXq"
      }
    },
    {
      "cell_type": "markdown",
      "source": [
        "Ans Here are the results of your request:\n",
        "\n",
        "1D NumPy Array:\n",
        "\n",
        "array\n",
        "=\n",
        "[\n",
        "0\n",
        ",\n",
        "1\n",
        ",\n",
        "2\n",
        ",\n",
        "3\n",
        ",\n",
        "4\n",
        ",\n",
        "5\n",
        ",\n",
        "6\n",
        ",\n",
        "7\n",
        ",\n",
        "8\n",
        ",\n",
        "9\n",
        "]\n",
        "array=[0,1,2,3,4,5,6,7,8,9]\n",
        "Reshaped into a 2x5 Array:\n",
        "\n",
        "array\n",
        "2\n",
        "×\n",
        "5\n",
        "=\n",
        "[\n",
        "0\n",
        "1\n",
        "2\n",
        "3\n",
        "4\n",
        "5\n",
        "6\n",
        "7\n",
        "8\n",
        "9\n",
        "]\n",
        "array\n",
        "2×5\n",
        "​\n",
        " =[\n",
        "0\n",
        "5\n",
        "​\n",
        "  \n",
        "1\n",
        "6\n",
        "​\n",
        "  \n",
        "2\n",
        "7\n",
        "​\n",
        "  \n",
        "3\n",
        "8\n",
        "​\n",
        "  \n",
        "4\n",
        "9\n",
        "​\n",
        " ]\n",
        "Reshaped into a 5x2 Array:\n",
        "\n",
        "\\text{array}_{5 \\times 2} = \\begin{bmatrix} 0 & 1 \\\\ 2 & 3 \\\\ 4 & 5 \\\\ 6 & 7 \\\\ 8 & 9 \\end{bmatrix} \\] &#8203;:contentReference[oaicite:0]{index=0}&#8203;"
      ],
      "metadata": {
        "id": "jjk5y6aZ2V_l"
      }
    },
    {
      "cell_type": "markdown",
      "source": [
        "Q3 Create a 4x4 NumPy array with random float values. Add a border of zeros around it, resulting in a 6x6 array."
      ],
      "metadata": {
        "id": "QjGONlNw2mFf"
      }
    },
    {
      "cell_type": "markdown",
      "source": [
        "Ans\n",
        "Here’s a 6x6 NumPy array with a border of zeros around a 4x4 array of random float values:\n",
        "\n",
        "[\n",
        "0\n",
        "0\n",
        "0\n",
        "0\n",
        "0\n",
        "0\n",
        "0\n",
        "0.3441\n",
        "0.5244\n",
        "0.1210\n",
        "0.5352\n",
        "0\n",
        "0\n",
        "0.1055\n",
        "0.2753\n",
        "0.9675\n",
        "0.6847\n",
        "0\n",
        "0\n",
        "0.8855\n",
        "0.1506\n",
        "0.8943\n",
        "0.7714\n",
        "0\n",
        "0\n",
        "0.3230\n",
        "0.6506\n",
        "0.4736\n",
        "0.8288\n",
        "0\n",
        "0\n",
        "0\n",
        "0\n",
        "0\n",
        "0\n",
        "0\n",
        "]\n",
        "​\n",
        "  \n",
        "0\n",
        "0\n",
        "0\n",
        "0\n",
        "0\n",
        "0\n",
        "​\n",
        "  \n",
        "0\n",
        "0.3441\n",
        "0.1055\n",
        "0.8855\n",
        "0.3230\n",
        "0\n",
        "​\n",
        "  \n",
        "0\n",
        "0.5244\n",
        "0.2753\n",
        "0.1506\n",
        "0.6506\n",
        "0\n",
        "​\n",
        "  \n",
        "0\n",
        "0.1210\n",
        "0.9675\n",
        "0.8943\n",
        "0.4736\n",
        "0\n",
        "​\n",
        "  \n",
        "0\n",
        "0.5352\n",
        "0.6847\n",
        "0.7714\n",
        "0.8288\n",
        "0\n",
        "​\n",
        "  \n",
        "0\n",
        "0\n",
        "0\n",
        "0\n",
        "0\n",
        "0\n",
        "​\n",
        "  \n",
        "​\n",
        "\n",
        "The inner 4x4 array contains random values, while the outer border is filled with zeros. ​"
      ],
      "metadata": {
        "id": "6kcjub4C2rvW"
      }
    },
    {
      "cell_type": "code",
      "source": [
        "import numpy as np\n",
        "\n",
        "# Create a 4x4 array with random float values\n",
        "random_array = np.random.rand(4, 4)\n",
        "\n",
        "# Add a border of zeros around the array\n",
        "bordered_array = np.pad(random_array, pad_width=1, mode='constant', constant_values=0)\n",
        "\n",
        "bordered_array\n"
      ],
      "metadata": {
        "colab": {
          "base_uri": "https://localhost:8080/"
        },
        "id": "8B5RoKLt2yGB",
        "outputId": "12b787d4-e7ef-4ee8-82c6-f759f2033076"
      },
      "execution_count": 15,
      "outputs": [
        {
          "output_type": "execute_result",
          "data": {
            "text/plain": [
              "array([[0.        , 0.        , 0.        , 0.        , 0.        ,\n",
              "        0.        ],\n",
              "       [0.        , 0.9458699 , 0.5714799 , 0.93457403, 0.41934545,\n",
              "        0.        ],\n",
              "       [0.        , 0.32890265, 0.34161884, 0.3937265 , 0.93993715,\n",
              "        0.        ],\n",
              "       [0.        , 0.55392515, 0.57367109, 0.36088047, 0.65729421,\n",
              "        0.        ],\n",
              "       [0.        , 0.06788886, 0.15742688, 0.83002647, 0.08583036,\n",
              "        0.        ],\n",
              "       [0.        , 0.        , 0.        , 0.        , 0.        ,\n",
              "        0.        ]])"
            ]
          },
          "metadata": {},
          "execution_count": 15
        }
      ]
    },
    {
      "cell_type": "markdown",
      "source": [
        "Q4 Using NumPy, create an array of integers from 10 to 60 with a step of 5."
      ],
      "metadata": {
        "id": "aFuh7zxF2_Yo"
      }
    },
    {
      "cell_type": "code",
      "source": [
        "import numpy as np\n",
        "\n",
        "# Create an array of integers from 10 to 60 with a step of 5\n",
        "array = np.arange(10, 61, 5)\n",
        "array\n"
      ],
      "metadata": {
        "colab": {
          "base_uri": "https://localhost:8080/"
        },
        "id": "xHd-noUB3MEM",
        "outputId": "96cd3418-e514-47a3-ea33-7738de5ed2d1"
      },
      "execution_count": 16,
      "outputs": [
        {
          "output_type": "execute_result",
          "data": {
            "text/plain": [
              "array([10, 15, 20, 25, 30, 35, 40, 45, 50, 55, 60])"
            ]
          },
          "metadata": {},
          "execution_count": 16
        }
      ]
    },
    {
      "cell_type": "markdown",
      "source": [
        "Q5 Create a NumPy array of strings ['python', 'numpy', 'pandas']. Apply different case transformations\n",
        "(uppercase, lowercase, title case, etc.) to each element."
      ],
      "metadata": {
        "id": "ryeXkBea3Qoq"
      }
    },
    {
      "cell_type": "code",
      "source": [
        "import numpy as np\n",
        "\n",
        "# Create a NumPy array of strings\n",
        "arr = np.array(['python', 'numpy', 'pandas'])\n",
        "\n",
        "# Apply different case transformations\n",
        "upper_case = np.char.upper(arr)        # Uppercase\n",
        "lower_case = np.char.lower(arr)        # Lowercase\n",
        "title_case = np.char.title(arr)        # Title case\n",
        "capitalize_case = np.char.capitalize(arr)  # Capitalize first letter\n",
        "\n",
        "# Combine the results into a structured array for better visualization\n",
        "transformed_array = np.array(list(zip(upper_case, lower_case, title_case, capitalize_case)),\n",
        "                             dtype=[('Upper', 'U10'), ('Lower', 'U10'), ('Title', 'U10'), ('Capitalize', 'U10')])\n",
        "\n",
        "transformed_array\n"
      ],
      "metadata": {
        "colab": {
          "base_uri": "https://localhost:8080/"
        },
        "id": "njWgl5Rp3nm_",
        "outputId": "fed7822a-6f3a-4e2c-cef2-8d601e23270c"
      },
      "execution_count": 17,
      "outputs": [
        {
          "output_type": "execute_result",
          "data": {
            "text/plain": [
              "array([('PYTHON', 'python', 'Python', 'Python'),\n",
              "       ('NUMPY', 'numpy', 'Numpy', 'Numpy'),\n",
              "       ('PANDAS', 'pandas', 'Pandas', 'Pandas')],\n",
              "      dtype=[('Upper', '<U10'), ('Lower', '<U10'), ('Title', '<U10'), ('Capitalize', '<U10')])"
            ]
          },
          "metadata": {},
          "execution_count": 17
        }
      ]
    },
    {
      "cell_type": "markdown",
      "source": [
        "Q6 Generate a NumPy array of words. Insert a space between each character of every word in the array."
      ],
      "metadata": {
        "id": "XHd1P-Wz3tNK"
      }
    },
    {
      "cell_type": "markdown",
      "source": [
        "Ans You can create a NumPy array of words and then insert a space between each character of every word using the following code:"
      ],
      "metadata": {
        "id": "HeA3jomH3z2F"
      }
    },
    {
      "cell_type": "code",
      "source": [
        "import numpy as np\n",
        "\n",
        "# Create a NumPy array of words\n",
        "words = np.array(['hello', 'world', 'numpy', 'array'])\n",
        "\n",
        "# Insert a space between each character of every word\n",
        "spaced_words = np.array([' '.join(word) for word in words])\n",
        "\n",
        "print(spaced_words)\n"
      ],
      "metadata": {
        "id": "3WrgR3H9329O"
      },
      "execution_count": null,
      "outputs": []
    },
    {
      "cell_type": "markdown",
      "source": [
        "This code creates a NumPy array called words, then uses a list comprehension to join each character in the words with a space and stores the result in a new NumPy array called spaced_words.\n",
        "\n",
        "When you run this code, the output will be:"
      ],
      "metadata": {
        "id": "0JaF7DYb354V"
      }
    },
    {
      "cell_type": "code",
      "source": [
        "['h e l l o' 'w o r l d' 'n u m p y' 'a r r a y']\n"
      ],
      "metadata": {
        "colab": {
          "base_uri": "https://localhost:8080/"
        },
        "id": "EZSiIYvX37o0",
        "outputId": "2a20ac8d-9180-4424-9ae5-1edb92f777d0"
      },
      "execution_count": 18,
      "outputs": [
        {
          "output_type": "execute_result",
          "data": {
            "text/plain": [
              "['h e l l ow o r l dn u m p ya r r a y']"
            ]
          },
          "metadata": {},
          "execution_count": 18
        }
      ]
    },
    {
      "cell_type": "markdown",
      "source": [
        "Q7  Create two 2D NumPy arrays and perform element-wise addition, subtraction, multiplication, and division."
      ],
      "metadata": {
        "id": "q-qwaNhV4AR1"
      }
    },
    {
      "cell_type": "code",
      "source": [
        "import numpy as np\n",
        "\n",
        "# Create two 2D NumPy arrays\n",
        "array1 = np.array([[1, 2, 3],\n",
        "                   [4, 5, 6],\n",
        "                   [7, 8, 9]])\n",
        "\n",
        "array2 = np.array([[9, 8, 7],\n",
        "                   [6, 5, 4],\n",
        "                   [3, 2, 1]])\n",
        "\n",
        "# Perform element-wise operations\n",
        "addition = array1 + array2\n",
        "subtraction = array1 - array2\n",
        "multiplication = array1 * array2\n",
        "division = array1 / array2\n",
        "\n",
        "addition, subtraction, multiplication, division\n"
      ],
      "metadata": {
        "colab": {
          "base_uri": "https://localhost:8080/"
        },
        "id": "6OaKyPPa4dLp",
        "outputId": "2915ba96-e7fd-42dc-ecd5-6d16b4dbbf34"
      },
      "execution_count": 21,
      "outputs": [
        {
          "output_type": "execute_result",
          "data": {
            "text/plain": [
              "(array([[10, 10, 10],\n",
              "        [10, 10, 10],\n",
              "        [10, 10, 10]]),\n",
              " array([[-8, -6, -4],\n",
              "        [-2,  0,  2],\n",
              "        [ 4,  6,  8]]),\n",
              " array([[ 9, 16, 21],\n",
              "        [24, 25, 24],\n",
              "        [21, 16,  9]]),\n",
              " array([[0.11111111, 0.25      , 0.42857143],\n",
              "        [0.66666667, 1.        , 1.5       ],\n",
              "        [2.33333333, 4.        , 9.        ]]))"
            ]
          },
          "metadata": {},
          "execution_count": 21
        }
      ]
    },
    {
      "cell_type": "code",
      "source": [
        "import numpy as np\n",
        "\n",
        "# Create two 2D NumPy arrays\n",
        "array1 = np.array([[1, 2, 3],\n",
        "                   [4, 5, 6],\n",
        "                   [7, 8, 9]])\n",
        "\n",
        "array2 = np.array([[9, 8, 7],\n",
        "                   [6, 5, 4],\n",
        "                   [3, 2, 1]])\n",
        "\n",
        "# Perform element-wise operations\n",
        "addition = array1 + array2\n",
        "subtraction = array1 - array2\n",
        "multiplication = array1 * array2\n",
        "division = array1 / array2\n",
        "\n",
        "addition, subtraction, multiplication, division\n"
      ],
      "metadata": {
        "colab": {
          "base_uri": "https://localhost:8080/"
        },
        "id": "46ByCFkT4Rey",
        "outputId": "8d7a8dc5-d783-4cd9-b667-9a900e1369e3"
      },
      "execution_count": 20,
      "outputs": [
        {
          "output_type": "execute_result",
          "data": {
            "text/plain": [
              "(array([[10, 10, 10],\n",
              "        [10, 10, 10],\n",
              "        [10, 10, 10]]),\n",
              " array([[-8, -6, -4],\n",
              "        [-2,  0,  2],\n",
              "        [ 4,  6,  8]]),\n",
              " array([[ 9, 16, 21],\n",
              "        [24, 25, 24],\n",
              "        [21, 16,  9]]),\n",
              " array([[0.11111111, 0.25      , 0.42857143],\n",
              "        [0.66666667, 1.        , 1.5       ],\n",
              "        [2.33333333, 4.        , 9.        ]]))"
            ]
          },
          "metadata": {},
          "execution_count": 20
        }
      ]
    },
    {
      "cell_type": "markdown",
      "source": [
        "Q8 Use NumPy to create a 5x5 identity matrix, then extract its diagonal elements."
      ],
      "metadata": {
        "id": "icc4kjfo4jwm"
      }
    },
    {
      "cell_type": "code",
      "source": [
        "import numpy as np\n",
        "\n",
        "# Create a 5x5 identity matrix\n",
        "identity_matrix = np.eye(5)\n",
        "\n",
        "# Extract the diagonal elements\n",
        "diagonal_elements = np.diagonal(identity_matrix)\n",
        "\n",
        "identity_matrix, diagonal_elements\n"
      ],
      "metadata": {
        "id": "wewHZ6zv4rJ0"
      },
      "execution_count": null,
      "outputs": []
    },
    {
      "cell_type": "code",
      "source": [
        "import numpy as np\n",
        "\n",
        "# Create a 5x5 identity matrix\n",
        "identity_matrix = np.eye(5)\n",
        "\n",
        "# Extract the diagonal elements\n",
        "diagonal_elements = np.diagonal(identity_matrix)\n",
        "\n",
        "identity_matrix, diagonal_elements\n"
      ],
      "metadata": {
        "id": "wW_JcGt44tRi"
      },
      "execution_count": null,
      "outputs": []
    },
    {
      "cell_type": "markdown",
      "source": [
        "Q9 Generate a NumPy array of 100 random integers between 0 and 1000. Find and display all prime numbers in\n",
        "this array."
      ],
      "metadata": {
        "id": "2vXGtX7t4zGJ"
      }
    },
    {
      "cell_type": "code",
      "source": [
        "import numpy as np\n",
        "from sympy import isprime\n",
        "\n",
        "# Generate a NumPy array of 100 random integers between 0 and 1000\n",
        "random_integers = np.random.randint(0, 1000, size=100)\n",
        "\n",
        "# Find all prime numbers in the array\n",
        "prime_numbers = [num for num in random_integers if isprime(num)]\n",
        "\n",
        "random_integers, prime_numbers\n"
      ],
      "metadata": {
        "id": "sHylenVa441U"
      },
      "execution_count": null,
      "outputs": []
    },
    {
      "cell_type": "code",
      "source": [
        "import numpy as np\n",
        "from sympy import isprime\n",
        "\n",
        "# Generate a NumPy array of 100 random integers between 0 and 1000\n",
        "random_integers = np.random.randint(0, 1000, size=100)\n",
        "\n",
        "# Find all prime numbers in the array\n",
        "prime_numbers = [num for num in random_integers if isprime(num)]\n",
        "\n",
        "random_integers, prime_numbers\n"
      ],
      "metadata": {
        "id": "FV47Ol6r47US"
      },
      "execution_count": null,
      "outputs": []
    },
    {
      "cell_type": "markdown",
      "source": [
        "Q10 Create a NumPy array representing daily temperatures for a month. Calculate and display the weekly averages"
      ],
      "metadata": {
        "id": "HOHWVtPa4-_Y"
      }
    },
    {
      "cell_type": "code",
      "source": [
        "import numpy as np\n",
        "\n",
        "# Generate a NumPy array representing daily temperatures for a month (30 days)\n",
        "# Assuming temperatures are in degrees Celsius\n",
        "np.random.seed(42)  # For reproducibility\n",
        "daily_temperatures = np.random.randint(low=15, high=30, size=30)\n",
        "\n",
        "# Calculate weekly averages (4 weeks)\n",
        "weekly_averages = np.mean(daily_temperatures.reshape(-1, 7), axis=1)\n",
        "\n",
        "daily_temperatures, weekly_averages\n"
      ],
      "metadata": {
        "id": "d1oqsTgg5KQO"
      },
      "execution_count": null,
      "outputs": []
    },
    {
      "cell_type": "code",
      "source": [
        "import numpy as np\n",
        "\n",
        "# Generate a NumPy array representing daily temperatures for a month (30 days)\n",
        "# Assuming temperatures are in degrees Celsius\n",
        "np.random.seed(42)  # For reproducibility\n",
        "daily_temperatures = np.random.randint(low=15, high=30, size=30)\n",
        "\n",
        "# Calculate weekly averages (4 weeks)\n",
        "weekly_averages = np.mean(daily_temperatures.reshape(-1, 7), axis=1)\n",
        "\n",
        "daily_temperatures, weekly_averages\n"
      ],
      "metadata": {
        "id": "Of1xE7di5M5L"
      },
      "execution_count": null,
      "outputs": []
    }
  ]
}